{
 "cells": [
  {
   "cell_type": "markdown",
   "metadata": {},
   "source": [
    "# Solving Partial Differential Equations in Julia\n",
    "\n",
    "## JuliaCon 2018\n",
    "\n",
    "## Chris Rackauckas\n",
    "\n",
    "## University of Maryland, Baltimore\n",
    "## University of California, Irvine"
   ]
  },
  {
   "cell_type": "markdown",
   "metadata": {},
   "source": [
    "## Who this workshop is for\n",
    "\n",
    "- People who want to learn about and discuss the available tooling to use Julia to build PDE solvers for their complex problem\n",
    "- People who just want some solution to some specific PDE\n",
    "- People who know Julia and want to learn what all of the fuss about PDEs is\n",
    "\n",
    "This talk is for you."
   ]
  },
  {
   "cell_type": "markdown",
   "metadata": {},
   "source": [
    "## What is a PDE?\n",
    "\n",
    "A partial differential equation (PDE) is a differential equation which has partial derivatives. Let's unpack that.\n",
    "\n",
    "A differential equation describes a value (function) by how it changes. `u' = f(u,p,t)` gives you a solution `u(t)` by you inputing / describing its derivative. Scientific equations are encoded in differential equations since experiments uncovers laws about what happens when entities change.\n",
    "\n",
    "A partial differential equation describes a value by how it changes in multiple directions: how it changes in the `x` vs `y` physical directions, and how it changes in time.\n",
    "\n",
    "Thus spatial properties, like the heat in a 3D room at a given time, `u(x,y,z,t)` are described by physical equations which are PDEs. Values like how a drug is distributed throughout the liver, or how stress propogates through an airplane hull, are examples of phonomena described by PDEs.\n",
    "\n",
    "You are interested in PDEs."
   ]
  },
  {
   "cell_type": "markdown",
   "metadata": {},
   "source": [
    "## The best way to solve a PDE is..."
   ]
  },
  {
   "cell_type": "markdown",
   "metadata": {},
   "source": [
    "## By converting it into another problem!\n",
    "\n",
    "Generally, PDEs are converted into:\n",
    "\n",
    "- Linear systems: `Ax = b` find `x`\n",
    "- Nonlinear systems: `G(x) = 0` find `x`\n",
    "- ODEs: `u' = f(u,p,t)`, find `u`"
   ]
  },
  {
   "cell_type": "markdown",
   "metadata": {},
   "source": [
    "## Learning by example: the Poisson Equation\n",
    "\n",
    "Let's introduce some shorthand: $u_x = \\frac{\\partial u}{\\partial x}$\n",
    "\n",
    "$$ \\Delta u = b $$\n",
    "\n",
    "In one dimension: $u_{xx} = b$\n",
    "Two dimensions: $u_{xx} + u_{yy} = b$\n",
    "Three dimensions: $u_{xx} + u_{yy} + u_{zz} = b$\n",
    "\n",
    "where $b(x)$, $b(x,y)$, $b(x,y,z)$ is some known constant function (known as \"the data\")"
   ]
  },
  {
   "cell_type": "code",
   "execution_count": null,
   "metadata": {},
   "outputs": [],
   "source": []
  },
  {
   "cell_type": "code",
   "execution_count": null,
   "metadata": {},
   "outputs": [],
   "source": []
  }
 ],
 "metadata": {
  "kernelspec": {
   "display_name": "Julia 0.6.2",
   "language": "julia",
   "name": "julia-0.6"
  },
  "language_info": {
   "file_extension": ".jl",
   "mimetype": "application/julia",
   "name": "julia",
   "version": "0.6.2"
  }
 },
 "nbformat": 4,
 "nbformat_minor": 2
}
