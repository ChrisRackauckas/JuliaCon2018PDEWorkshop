{
 "cells": [
  {
   "cell_type": "markdown",
   "metadata": {
    "slideshow": {
     "slide_type": "slide"
    }
   },
   "source": [
    "# Solving Partial Differential Equations in Julia\n",
    "\n",
    "## JuliaCon 2018\n",
    "\n",
    "## Chris Rackauckas\n",
    "\n",
    "## University of Maryland, Baltimore\n",
    "## University of California, Irvine"
   ]
  },
  {
   "cell_type": "markdown",
   "metadata": {
    "slideshow": {
     "slide_type": "slide"
    }
   },
   "source": [
    "## The goal of this workshop is to show how very disparate parts of the package ecosystem can be joined together to solve PDEs\n",
    "\n",
    "How are finite elements, multigrid methods, ODE solvers, etc. all the same topic?\n",
    "\n",
    "Teach a man to fish: we won't be going over pre-built domain specific PDE solvers, instead we will be going over the tools which are used to build PDE solvers. \n",
    "\n",
    "#### While the basics of numerically solving PDEs is usually taught in mathematics courses, the way it is described is not suitable for high performance scientific computing. Instead, we will describe the field in a very practical \"I want to compute things fast and accurately\" style."
   ]
  },
  {
   "cell_type": "markdown",
   "metadata": {
    "slideshow": {
     "slide_type": "slide"
    }
   },
   "source": [
    "## What is a PDE?\n",
    "\n",
    "A partial differential equation (PDE) is a differential equation which has partial derivatives. Let's unpack that.\n",
    "\n",
    "A differential equation describes a value (function) by how it changes. `u' = f(u,p,t)` gives you a solution `u(t)` by you inputing / describing its derivative. Scientific equations are encoded in differential equations since experiments uncovers laws about what happens when entities change.\n",
    "\n",
    "A partial differential equation describes a value by how it changes in multiple directions: how it changes in the `x` vs `y` physical directions, and how it changes in time.\n",
    "\n",
    "Thus spatial properties, like the heat in a 3D room at a given time, `u(x,y,z,t)` are described by physical equations which are PDEs. Values like how a drug is distributed throughout the liver, or how stress propogates through an airplane hull, are examples of phonomena described by PDEs.\n",
    "\n",
    "You are interested in PDEs."
   ]
  },
  {
   "cell_type": "markdown",
   "metadata": {
    "slideshow": {
     "slide_type": "slide"
    }
   },
   "source": [
    "## Part 1: Representations of PDEs as other mathematical problems\n",
    "\n",
    "This will either be an overview where I will reframe the most common method of solution, or your first walkthrough of a PDE solver!"
   ]
  },
  {
   "cell_type": "markdown",
   "metadata": {
    "slideshow": {
     "slide_type": "slide"
    }
   },
   "source": [
    "## The best way to solve a PDE is..."
   ]
  },
  {
   "cell_type": "markdown",
   "metadata": {
    "slideshow": {
     "slide_type": "slide"
    }
   },
   "source": [
    "## By converting it into another problem!\n",
    "\n",
    "Generally, PDEs are converted into:\n",
    "\n",
    "- Linear systems: `Ax = b` find `x`.\n",
    "- Nonlinear systems: `G(x) = 0` find `x`.\n",
    "- ODEs: `u' = f(u,p,t)`, find `u`.\n",
    "\n",
    "There are others:\n",
    "\n",
    "- SDEs: `du = f(u,p,t)dt + g(u,p,t)dW`, find `mean(u)`.\n",
    "\n",
    "... Yes experts, there are more but we will stick to the usual stuff."
   ]
  },
  {
   "cell_type": "markdown",
   "metadata": {
    "slideshow": {
     "slide_type": "slide"
    }
   },
   "source": [
    "## Learning by example: the Poisson Equation\n",
    "\n",
    "Let's introduce some shorthand: $u_x = \\frac{\\partial u}{\\partial x}$. The Poisson Equation is the PDE:\n",
    "\n",
    "$$ \\Delta u(x) = b(x) $$\n",
    "\n",
    "for $ x \\in [0,1]$. In one dimension: \n",
    "\n",
    "$$u_{xx} = b$$\n",
    "\n",
    "$b(x)$ is some known constant function (known as \"the data\"). Given the data (the second derivative), find $u$.\n",
    "\n",
    "### How do we solve this PDE?"
   ]
  },
  {
   "cell_type": "markdown",
   "metadata": {
    "slideshow": {
     "slide_type": "slide"
    }
   },
   "source": [
    "## First Choice: Computational Representation of a Function\n",
    "\n",
    "First we have to choose how to computationally represent our continuous function $u(x)$ by finitely many numbers. Let's start with the most basic way (and we'll revisit the others later!). Let $\\Delta x$ be some constant discretization size and let $x_i = i\\Delta x$. Then we represent our function $u(x) \\approx {u_i} = {u(x_i)}$, i.e. we represent a continuous function by values on a grid (and we can assume some interpolation, like linear interpolation)"
   ]
  },
  {
   "cell_type": "code",
   "execution_count": 13,
   "metadata": {
    "slideshow": {
     "slide_type": "slide"
    }
   },
   "outputs": [
    {
     "data": {
      "image/svg+xml": [
       "<?xml version=\"1.0\" encoding=\"utf-8\"?>\n",
       "<svg xmlns=\"http://www.w3.org/2000/svg\" xmlns:xlink=\"http://www.w3.org/1999/xlink\" width=\"600\" height=\"400\" viewBox=\"0 0 600 400\">\n",
       "<defs>\n",
       "  <clipPath id=\"clip5400\">\n",
       "    <rect x=\"0\" y=\"0\" width=\"600\" height=\"400\"/>\n",
       "  </clipPath>\n",
       "</defs>\n",
       "<polygon clip-path=\"url(#clip5400)\" points=\"\n",
       "0,400 600,400 600,0 0,0 \n",
       "  \" fill=\"#ffffff\" fill-opacity=\"1\"/>\n",
       "<defs>\n",
       "  <clipPath id=\"clip5401\">\n",
       "    <rect x=\"120\" y=\"0\" width=\"421\" height=\"400\"/>\n",
       "  </clipPath>\n",
       "</defs>\n",
       "<polygon clip-path=\"url(#clip5400)\" points=\"\n",
       "47.376,375.869 580.315,375.869 580.315,11.811 47.376,11.811 \n",
       "  \" fill=\"#ffffff\" fill-opacity=\"1\"/>\n",
       "<defs>\n",
       "  <clipPath id=\"clip5402\">\n",
       "    <rect x=\"47\" y=\"11\" width=\"534\" height=\"365\"/>\n",
       "  </clipPath>\n",
       "</defs>\n",
       "<polyline clip-path=\"url(#clip5402)\" style=\"stroke:#000000; stroke-width:0.5; stroke-opacity:0.1; fill:none\" points=\"\n",
       "  62.4592,375.869 62.4592,11.811 \n",
       "  \"/>\n",
       "<polyline clip-path=\"url(#clip5402)\" style=\"stroke:#000000; stroke-width:0.5; stroke-opacity:0.1; fill:none\" points=\"\n",
       "  188.152,375.869 188.152,11.811 \n",
       "  \"/>\n",
       "<polyline clip-path=\"url(#clip5402)\" style=\"stroke:#000000; stroke-width:0.5; stroke-opacity:0.1; fill:none\" points=\"\n",
       "  313.845,375.869 313.845,11.811 \n",
       "  \"/>\n",
       "<polyline clip-path=\"url(#clip5402)\" style=\"stroke:#000000; stroke-width:0.5; stroke-opacity:0.1; fill:none\" points=\"\n",
       "  439.539,375.869 439.539,11.811 \n",
       "  \"/>\n",
       "<polyline clip-path=\"url(#clip5402)\" style=\"stroke:#000000; stroke-width:0.5; stroke-opacity:0.1; fill:none\" points=\"\n",
       "  565.232,375.869 565.232,11.811 \n",
       "  \"/>\n",
       "<polyline clip-path=\"url(#clip5402)\" style=\"stroke:#000000; stroke-width:0.5; stroke-opacity:0.1; fill:none\" points=\"\n",
       "  47.376,365.605 580.315,365.605 \n",
       "  \"/>\n",
       "<polyline clip-path=\"url(#clip5402)\" style=\"stroke:#000000; stroke-width:0.5; stroke-opacity:0.1; fill:none\" points=\"\n",
       "  47.376,279.732 580.315,279.732 \n",
       "  \"/>\n",
       "<polyline clip-path=\"url(#clip5402)\" style=\"stroke:#000000; stroke-width:0.5; stroke-opacity:0.1; fill:none\" points=\"\n",
       "  47.376,193.86 580.315,193.86 \n",
       "  \"/>\n",
       "<polyline clip-path=\"url(#clip5402)\" style=\"stroke:#000000; stroke-width:0.5; stroke-opacity:0.1; fill:none\" points=\"\n",
       "  47.376,107.987 580.315,107.987 \n",
       "  \"/>\n",
       "<polyline clip-path=\"url(#clip5402)\" style=\"stroke:#000000; stroke-width:0.5; stroke-opacity:0.1; fill:none\" points=\"\n",
       "  47.376,22.1145 580.315,22.1145 \n",
       "  \"/>\n",
       "<polyline clip-path=\"url(#clip5400)\" style=\"stroke:#000000; stroke-width:1; stroke-opacity:1; fill:none\" points=\"\n",
       "  47.376,375.869 580.315,375.869 \n",
       "  \"/>\n",
       "<polyline clip-path=\"url(#clip5400)\" style=\"stroke:#000000; stroke-width:1; stroke-opacity:1; fill:none\" points=\"\n",
       "  47.376,375.869 47.376,11.811 \n",
       "  \"/>\n",
       "<polyline clip-path=\"url(#clip5400)\" style=\"stroke:#000000; stroke-width:1; stroke-opacity:1; fill:none\" points=\"\n",
       "  62.4592,375.869 62.4592,370.408 \n",
       "  \"/>\n",
       "<polyline clip-path=\"url(#clip5400)\" style=\"stroke:#000000; stroke-width:1; stroke-opacity:1; fill:none\" points=\"\n",
       "  188.152,375.869 188.152,370.408 \n",
       "  \"/>\n",
       "<polyline clip-path=\"url(#clip5400)\" style=\"stroke:#000000; stroke-width:1; stroke-opacity:1; fill:none\" points=\"\n",
       "  313.845,375.869 313.845,370.408 \n",
       "  \"/>\n",
       "<polyline clip-path=\"url(#clip5400)\" style=\"stroke:#000000; stroke-width:1; stroke-opacity:1; fill:none\" points=\"\n",
       "  439.539,375.869 439.539,370.408 \n",
       "  \"/>\n",
       "<polyline clip-path=\"url(#clip5400)\" style=\"stroke:#000000; stroke-width:1; stroke-opacity:1; fill:none\" points=\"\n",
       "  565.232,375.869 565.232,370.408 \n",
       "  \"/>\n",
       "<polyline clip-path=\"url(#clip5400)\" style=\"stroke:#000000; stroke-width:1; stroke-opacity:1; fill:none\" points=\"\n",
       "  47.376,365.605 55.3701,365.605 \n",
       "  \"/>\n",
       "<polyline clip-path=\"url(#clip5400)\" style=\"stroke:#000000; stroke-width:1; stroke-opacity:1; fill:none\" points=\"\n",
       "  47.376,279.732 55.3701,279.732 \n",
       "  \"/>\n",
       "<polyline clip-path=\"url(#clip5400)\" style=\"stroke:#000000; stroke-width:1; stroke-opacity:1; fill:none\" points=\"\n",
       "  47.376,193.86 55.3701,193.86 \n",
       "  \"/>\n",
       "<polyline clip-path=\"url(#clip5400)\" style=\"stroke:#000000; stroke-width:1; stroke-opacity:1; fill:none\" points=\"\n",
       "  47.376,107.987 55.3701,107.987 \n",
       "  \"/>\n",
       "<polyline clip-path=\"url(#clip5400)\" style=\"stroke:#000000; stroke-width:1; stroke-opacity:1; fill:none\" points=\"\n",
       "  47.376,22.1145 55.3701,22.1145 \n",
       "  \"/>\n",
       "<g clip-path=\"url(#clip5400)\">\n",
       "<text style=\"fill:#000000; fill-opacity:1; font-family:Arial,Helvetica Neue,Helvetica,sans-serif; font-size:12; text-anchor:middle;\" transform=\"rotate(0, 62.4592, 389.669)\" x=\"62.4592\" y=\"389.669\">0.00</text>\n",
       "</g>\n",
       "<g clip-path=\"url(#clip5400)\">\n",
       "<text style=\"fill:#000000; fill-opacity:1; font-family:Arial,Helvetica Neue,Helvetica,sans-serif; font-size:12; text-anchor:middle;\" transform=\"rotate(0, 188.152, 389.669)\" x=\"188.152\" y=\"389.669\">0.25</text>\n",
       "</g>\n",
       "<g clip-path=\"url(#clip5400)\">\n",
       "<text style=\"fill:#000000; fill-opacity:1; font-family:Arial,Helvetica Neue,Helvetica,sans-serif; font-size:12; text-anchor:middle;\" transform=\"rotate(0, 313.845, 389.669)\" x=\"313.845\" y=\"389.669\">0.50</text>\n",
       "</g>\n",
       "<g clip-path=\"url(#clip5400)\">\n",
       "<text style=\"fill:#000000; fill-opacity:1; font-family:Arial,Helvetica Neue,Helvetica,sans-serif; font-size:12; text-anchor:middle;\" transform=\"rotate(0, 439.539, 389.669)\" x=\"439.539\" y=\"389.669\">0.75</text>\n",
       "</g>\n",
       "<g clip-path=\"url(#clip5400)\">\n",
       "<text style=\"fill:#000000; fill-opacity:1; font-family:Arial,Helvetica Neue,Helvetica,sans-serif; font-size:12; text-anchor:middle;\" transform=\"rotate(0, 565.232, 389.669)\" x=\"565.232\" y=\"389.669\">1.00</text>\n",
       "</g>\n",
       "<g clip-path=\"url(#clip5400)\">\n",
       "<text style=\"fill:#000000; fill-opacity:1; font-family:Arial,Helvetica Neue,Helvetica,sans-serif; font-size:12; text-anchor:end;\" transform=\"rotate(0, 41.376, 370.105)\" x=\"41.376\" y=\"370.105\">-1.0</text>\n",
       "</g>\n",
       "<g clip-path=\"url(#clip5400)\">\n",
       "<text style=\"fill:#000000; fill-opacity:1; font-family:Arial,Helvetica Neue,Helvetica,sans-serif; font-size:12; text-anchor:end;\" transform=\"rotate(0, 41.376, 284.232)\" x=\"41.376\" y=\"284.232\">-0.5</text>\n",
       "</g>\n",
       "<g clip-path=\"url(#clip5400)\">\n",
       "<text style=\"fill:#000000; fill-opacity:1; font-family:Arial,Helvetica Neue,Helvetica,sans-serif; font-size:12; text-anchor:end;\" transform=\"rotate(0, 41.376, 198.36)\" x=\"41.376\" y=\"198.36\">0.0</text>\n",
       "</g>\n",
       "<g clip-path=\"url(#clip5400)\">\n",
       "<text style=\"fill:#000000; fill-opacity:1; font-family:Arial,Helvetica Neue,Helvetica,sans-serif; font-size:12; text-anchor:end;\" transform=\"rotate(0, 41.376, 112.487)\" x=\"41.376\" y=\"112.487\">0.5</text>\n",
       "</g>\n",
       "<g clip-path=\"url(#clip5400)\">\n",
       "<text style=\"fill:#000000; fill-opacity:1; font-family:Arial,Helvetica Neue,Helvetica,sans-serif; font-size:12; text-anchor:end;\" transform=\"rotate(0, 41.376, 26.6145)\" x=\"41.376\" y=\"26.6145\">1.0</text>\n",
       "</g>\n",
       "<polyline clip-path=\"url(#clip5402)\" style=\"stroke:#009af9; stroke-width:3; stroke-opacity:1; fill:none\" points=\"\n",
       "  63.6867,191.225 64.9142,188.591 66.1417,185.959 67.3692,183.328 78.7192,159.2 90.0691,135.769 101.419,113.504 112.769,92.8537 119.59,81.3945 126.411,70.752 \n",
       "  133.232,61.0035 140.053,52.2197 145.82,45.5932 151.586,39.7364 157.353,34.6799 163.12,30.4497 169.385,26.8166 175.649,24.2068 181.914,22.6362 188.178,22.1145 \n",
       "  193.954,22.5657 199.729,23.9088 205.505,26.1368 211.28,29.2382 217.472,33.5147 223.663,38.7509 229.855,44.9153 236.047,51.9711 243.221,61.2046 250.395,71.5036 \n",
       "  257.568,82.7854 264.742,94.9594 277.492,118.491 290.243,143.932 301.424,167.306 312.605,191.197 324.795,217.287 336.985,242.835 349.248,267.39 361.511,290.22 \n",
       "  368.29,301.904 375.069,312.813 381.848,322.869 388.627,331.999 395.077,339.767 401.527,346.588 407.977,352.417 414.427,357.217 421.133,361.081 427.84,363.772 \n",
       "  434.547,365.27 441.253,365.565 446.899,364.879 452.544,363.341 458.19,360.96 463.835,357.748 470.727,352.723 477.62,346.52 484.512,339.185 491.405,330.772 \n",
       "  497.884,321.937 504.363,312.263 510.842,301.813 517.322,290.655 527.702,271.49 538.082,251.02 548.462,229.59 558.842,207.559 560.439,204.139 562.037,200.715 \n",
       "  563.634,197.288 \n",
       "  \"/>\n",
       "<circle clip-path=\"url(#clip5402)\" style=\"fill:#000000; stroke:none; fill-opacity:1\" cx=\"62.4592\" cy=\"193.86\" r=\"4\"/>\n",
       "<circle clip-path=\"url(#clip5402)\" style=\"fill:#e26f46; stroke:none; fill-opacity:1\" cx=\"62.4592\" cy=\"193.86\" r=\"3\"/>\n",
       "<circle clip-path=\"url(#clip5402)\" style=\"fill:#000000; stroke:none; fill-opacity:1\" cx=\"112.736\" cy=\"92.9104\" r=\"4\"/>\n",
       "<circle clip-path=\"url(#clip5402)\" style=\"fill:#e26f46; stroke:none; fill-opacity:1\" cx=\"112.736\" cy=\"92.9104\" r=\"3\"/>\n",
       "<circle clip-path=\"url(#clip5402)\" style=\"fill:#000000; stroke:none; fill-opacity:1\" cx=\"163.014\" cy=\"30.5203\" r=\"4\"/>\n",
       "<circle clip-path=\"url(#clip5402)\" style=\"fill:#e26f46; stroke:none; fill-opacity:1\" cx=\"163.014\" cy=\"30.5203\" r=\"3\"/>\n",
       "<circle clip-path=\"url(#clip5402)\" style=\"fill:#000000; stroke:none; fill-opacity:1\" cx=\"213.291\" cy=\"30.5203\" r=\"4\"/>\n",
       "<circle clip-path=\"url(#clip5402)\" style=\"fill:#e26f46; stroke:none; fill-opacity:1\" cx=\"213.291\" cy=\"30.5203\" r=\"3\"/>\n",
       "<circle clip-path=\"url(#clip5402)\" style=\"fill:#000000; stroke:none; fill-opacity:1\" cx=\"263.568\" cy=\"92.9104\" r=\"4\"/>\n",
       "<circle clip-path=\"url(#clip5402)\" style=\"fill:#e26f46; stroke:none; fill-opacity:1\" cx=\"263.568\" cy=\"92.9104\" r=\"3\"/>\n",
       "<circle clip-path=\"url(#clip5402)\" style=\"fill:#000000; stroke:none; fill-opacity:1\" cx=\"313.845\" cy=\"193.86\" r=\"4\"/>\n",
       "<circle clip-path=\"url(#clip5402)\" style=\"fill:#e26f46; stroke:none; fill-opacity:1\" cx=\"313.845\" cy=\"193.86\" r=\"3\"/>\n",
       "<circle clip-path=\"url(#clip5402)\" style=\"fill:#000000; stroke:none; fill-opacity:1\" cx=\"364.123\" cy=\"294.809\" r=\"4\"/>\n",
       "<circle clip-path=\"url(#clip5402)\" style=\"fill:#e26f46; stroke:none; fill-opacity:1\" cx=\"364.123\" cy=\"294.809\" r=\"3\"/>\n",
       "<circle clip-path=\"url(#clip5402)\" style=\"fill:#000000; stroke:none; fill-opacity:1\" cx=\"414.4\" cy=\"357.199\" r=\"4\"/>\n",
       "<circle clip-path=\"url(#clip5402)\" style=\"fill:#e26f46; stroke:none; fill-opacity:1\" cx=\"414.4\" cy=\"357.199\" r=\"3\"/>\n",
       "<circle clip-path=\"url(#clip5402)\" style=\"fill:#000000; stroke:none; fill-opacity:1\" cx=\"464.677\" cy=\"357.199\" r=\"4\"/>\n",
       "<circle clip-path=\"url(#clip5402)\" style=\"fill:#e26f46; stroke:none; fill-opacity:1\" cx=\"464.677\" cy=\"357.199\" r=\"3\"/>\n",
       "<circle clip-path=\"url(#clip5402)\" style=\"fill:#000000; stroke:none; fill-opacity:1\" cx=\"514.955\" cy=\"294.809\" r=\"4\"/>\n",
       "<circle clip-path=\"url(#clip5402)\" style=\"fill:#e26f46; stroke:none; fill-opacity:1\" cx=\"514.955\" cy=\"294.809\" r=\"3\"/>\n",
       "<circle clip-path=\"url(#clip5402)\" style=\"fill:#000000; stroke:none; fill-opacity:1\" cx=\"565.232\" cy=\"193.86\" r=\"4\"/>\n",
       "<circle clip-path=\"url(#clip5402)\" style=\"fill:#e26f46; stroke:none; fill-opacity:1\" cx=\"565.232\" cy=\"193.86\" r=\"3\"/>\n",
       "<polyline clip-path=\"url(#clip5402)\" style=\"stroke:#3da44d; stroke-width:3; stroke-opacity:1; fill:none\" points=\"\n",
       "  62.4592,193.86 112.736,92.9104 163.014,30.5203 213.291,30.5203 263.568,92.9104 313.845,193.86 364.123,294.809 414.4,357.199 464.677,357.199 514.955,294.809 \n",
       "  565.232,193.86 \n",
       "  \"/>\n",
       "<polygon clip-path=\"url(#clip5400)\" points=\"\n",
       "489.608,93.171 562.315,93.171 562.315,32.691 489.608,32.691 \n",
       "  \" fill=\"#ffffff\" fill-opacity=\"1\"/>\n",
       "<polyline clip-path=\"url(#clip5400)\" style=\"stroke:#000000; stroke-width:1; stroke-opacity:1; fill:none\" points=\"\n",
       "  489.608,93.171 562.315,93.171 562.315,32.691 489.608,32.691 489.608,93.171 \n",
       "  \"/>\n",
       "<polyline clip-path=\"url(#clip5400)\" style=\"stroke:#009af9; stroke-width:3; stroke-opacity:1; fill:none\" points=\"\n",
       "  495.608,47.811 531.608,47.811 \n",
       "  \"/>\n",
       "<g clip-path=\"url(#clip5400)\">\n",
       "<text style=\"fill:#000000; fill-opacity:1; font-family:Arial,Helvetica Neue,Helvetica,sans-serif; font-size:12; text-anchor:start;\" transform=\"rotate(0, 537.608, 52.311)\" x=\"537.608\" y=\"52.311\">y1</text>\n",
       "</g>\n",
       "<circle clip-path=\"url(#clip5400)\" style=\"fill:#000000; stroke:none; fill-opacity:1\" cx=\"516.608\" cy=\"62.931\" r=\"6\"/>\n",
       "<circle clip-path=\"url(#clip5400)\" style=\"fill:#e26f46; stroke:none; fill-opacity:1\" cx=\"516.608\" cy=\"62.931\" r=\"5\"/>\n",
       "<g clip-path=\"url(#clip5400)\">\n",
       "<text style=\"fill:#000000; fill-opacity:1; font-family:Arial,Helvetica Neue,Helvetica,sans-serif; font-size:12; text-anchor:start;\" transform=\"rotate(0, 537.608, 67.431)\" x=\"537.608\" y=\"67.431\">y2</text>\n",
       "</g>\n",
       "<polyline clip-path=\"url(#clip5400)\" style=\"stroke:#3da44d; stroke-width:3; stroke-opacity:1; fill:none\" points=\"\n",
       "  495.608,78.051 531.608,78.051 \n",
       "  \"/>\n",
       "<g clip-path=\"url(#clip5400)\">\n",
       "<text style=\"fill:#000000; fill-opacity:1; font-family:Arial,Helvetica Neue,Helvetica,sans-serif; font-size:12; text-anchor:start;\" transform=\"rotate(0, 537.608, 82.551)\" x=\"537.608\" y=\"82.551\">y3</text>\n",
       "</g>\n",
       "</svg>\n"
      ]
     },
     "execution_count": 13,
     "metadata": {},
     "output_type": "execute_result"
    }
   ],
   "source": [
    "Δx = 0.1\n",
    "x = 0:Δx:1\n",
    "u(x) = sin(2π*x)\n",
    "using Plots\n",
    "plot(u,0,1,lw=3)\n",
    "scatter!(x,u.(x))\n",
    "plot!(x,u.(x),lw=3)"
   ]
  },
  {
   "cell_type": "markdown",
   "metadata": {
    "slideshow": {
     "slide_type": "slide"
    }
   },
   "source": [
    "## Second Choice: Discretization of Derivatives\n",
    "\n",
    "Forward difference: $ u_x \\approx \\delta^+ u = \\frac{u_{i+1} - u_{i}}{\\Delta x} $\n",
    "\n",
    "Backward difference: $ u_x \\approx \\delta^- u = \\frac{u_{i} - u_{i-1}}{\\Delta x} $\n",
    "\n",
    "$$ u_{xx} = \\frac{\\partial u_x}{\\partial x} $$\n",
    "\n",
    "Central difference for 2nd derivative: $ u_{xx} \\approx \\delta u_{x} = \\frac{\\delta^+ u_x - \\delta^- u_x}{\\Delta x}$\n",
    "\n",
    "This gives the well-known central difference formula:\n",
    "\n",
    "$$ u_{xx} \\approx \\frac{u_{i+1} - 2u_i + u_{i-1}}{\\Delta x^2} $$"
   ]
  },
  {
   "cell_type": "markdown",
   "metadata": {
    "slideshow": {
     "slide_type": "slide"
    }
   },
   "source": [
    "## Quick Recap\n",
    "\n",
    "We just made **two choices**:\n",
    "\n",
    "- Represent our function by an evenly spaced grid of points\n",
    "- Represent the derivative by the central difference formula\n",
    "\n",
    "Given these two choices, how can we re-write our PDE?"
   ]
  },
  {
   "cell_type": "markdown",
   "metadata": {
    "slideshow": {
     "slide_type": "slide"
    }
   },
   "source": [
    "## The Representation of Our PDE\n",
    "\n",
    "Remember we want to solve $ \\Delta u = b $ on $ x \\in [0,1] $\n",
    "\n",
    "- $u(x)$ is now a vector of points $u_i = u(x_i)$\n",
    "- $b(x)$ is now a vector of points $b_i = b(x_i)$ \n",
    "- The second derivative is now the function $\\frac{\\partial^2 u}{\\partial x}(x_i) = \\frac{u_{i+1} - 2u_i + u_{i-1}}{\\Delta x^2}$\n",
    "\n",
    "Thus we have a system of $i$ equations:\n",
    "\n",
    "$$ \\frac{u_{i+1} - 2u_i + u_{i-1}}{\\Delta x^2} = b_i $$"
   ]
  },
  {
   "cell_type": "markdown",
   "metadata": {
    "slideshow": {
     "slide_type": "slide"
    }
   },
   "source": [
    "## But Wait...\n",
    "\n",
    "What happens at $i=0$?\n",
    "\n",
    "$$ \\frac{u_1 - 2u_0 + u_{i-1}}{\\Delta x^2} = b_0 $$\n",
    "\n",
    "Translating back to $u_i = u(x_i) = u(i\\Delta x)$:\n",
    "\n",
    "$$ u(\\Delta x) - 2u(0) + u(-\\Delta x)$$\n",
    "\n",
    "The last point is out of the domain! In order to solve this problem we have to impose **boundary conditions**. For example, let's add the following condition to our problem: $u(0) = u(1) = 0$. Then the $0$th point is determined: $u_0 = 0$, and the 1st point is:\n",
    "\n",
    "$$ b_1 = \\frac{u_2 - 2u_1 + u_0}{\\Delta x^2} = \\frac{u_2 - 2u_1}{\\Delta x^2} $$\n",
    "\n",
    "so we can solve it!"
   ]
  },
  {
   "cell_type": "markdown",
   "metadata": {
    "slideshow": {
     "slide_type": "slide"
    }
   },
   "source": [
    "## The Linear Representation of Our Derivative\n",
    "\n",
    "Notice that if $$ U=\\left[\\begin{array}{c}\n",
    "u_{1}\\\\\n",
    "u_{2}\\\\\n",
    "\\vdots\\\\\n",
    "u_{N-1}\\\\\n",
    "u_{N}\n",
    "\\end{array}\\right], $$ then\n",
    "\n",
    "$$ AU=\\frac{1}{\\Delta x^{2}}\\left[\\begin{array}{ccccc}\n",
    "-2 & 1\\\\\n",
    "1 & -2 & 1\\\\\n",
    " & \\ddots & \\ddots & \\ddots\\\\\n",
    " &  & 1 & -2 & 1\\\\\n",
    " &  &  & 1 & -2\n",
    "\\end{array}\\right]\\left[\\begin{array}{c}\n",
    "u_{1}\\\\\n",
    "u_{2}\\\\\n",
    "\\vdots\\\\\n",
    "u_{N-1}\\\\\n",
    "u_{N}\n",
    "\\end{array}\\right]=\\frac{1}{\\Delta x^{2}}\\left[\\begin{array}{c}\n",
    "u_{2}-2u_{1}\\\\\n",
    "u_{3}-2u_{2}+u_{1}\\\\\n",
    "\\vdots\\\\\n",
    "u_{N}-2u_{N-1}+u_{N-2}\\\\\n",
    "-2u_{N}+u_{N-1}\n",
    "\\end{array}\\right]=\\left[\\begin{array}{c}\n",
    "b_{1}\\\\\n",
    "b_{2}\\\\\n",
    "\\vdots\\\\\n",
    "b_{N-1}\\\\\n",
    "b_{N}\n",
    "\\end{array}\\right]=B $$"
   ]
  },
  {
   "cell_type": "markdown",
   "metadata": {
    "slideshow": {
     "slide_type": "slide"
    }
   },
   "source": [
    "## This is a linear equation!\n",
    "\n",
    "We know $A$, $B$ is given to us, find $U$.\n",
    "\n",
    "Let's walk through a concrete version with some Julia code now. Let's solve:\n",
    "\n",
    "$$ u_{xx} = sin(2\\pi x) $$"
   ]
  },
  {
   "cell_type": "code",
   "execution_count": 37,
   "metadata": {
    "slideshow": {
     "slide_type": "slide"
    }
   },
   "outputs": [
    {
     "data": {
      "text/plain": [
       "9×9 Array{Float64,2}:\n",
       " -200.0   100.0     0.0     0.0     0.0     0.0     0.0     0.0     0.0\n",
       "  100.0  -200.0   100.0     0.0     0.0     0.0     0.0     0.0     0.0\n",
       "    0.0   100.0  -200.0   100.0     0.0     0.0     0.0     0.0     0.0\n",
       "    0.0     0.0   100.0  -200.0   100.0     0.0     0.0     0.0     0.0\n",
       "    0.0     0.0     0.0   100.0  -200.0   100.0     0.0     0.0     0.0\n",
       "    0.0     0.0     0.0     0.0   100.0  -200.0   100.0     0.0     0.0\n",
       "    0.0     0.0     0.0     0.0     0.0   100.0  -200.0   100.0     0.0\n",
       "    0.0     0.0     0.0     0.0     0.0     0.0   100.0  -200.0   100.0\n",
       "    0.0     0.0     0.0     0.0     0.0     0.0     0.0   100.0  -200.0"
      ]
     },
     "execution_count": 37,
     "metadata": {},
     "output_type": "execute_result"
    }
   ],
   "source": [
    "Δx = 0.1\n",
    "x = Δx:Δx:1-Δx # Solve only for the interior: the endpoints are known to be zero!\n",
    "N = length(x)\n",
    "B = sin.(2π*x)\n",
    "A = zeros(N,N)\n",
    "for i in 1:N, j in 1:N\n",
    "  abs(i-j)<=1 && (A[i,j]+=1)\n",
    "  i==j && (A[i,j]-=3)\n",
    "end\n",
    "A = A/(Δx^2)"
   ]
  },
  {
   "cell_type": "code",
   "execution_count": 42,
   "metadata": {
    "slideshow": {
     "slide_type": "slide"
    }
   },
   "outputs": [
    {
     "data": {
      "image/svg+xml": [
       "<?xml version=\"1.0\" encoding=\"utf-8\"?>\n",
       "<svg xmlns=\"http://www.w3.org/2000/svg\" xmlns:xlink=\"http://www.w3.org/1999/xlink\" width=\"600\" height=\"400\" viewBox=\"0 0 600 400\">\n",
       "<defs>\n",
       "  <clipPath id=\"clip7400\">\n",
       "    <rect x=\"0\" y=\"0\" width=\"600\" height=\"400\"/>\n",
       "  </clipPath>\n",
       "</defs>\n",
       "<polygon clip-path=\"url(#clip7400)\" points=\"\n",
       "0,400 600,400 600,0 0,0 \n",
       "  \" fill=\"#ffffff\" fill-opacity=\"1\"/>\n",
       "<defs>\n",
       "  <clipPath id=\"clip7401\">\n",
       "    <rect x=\"120\" y=\"0\" width=\"421\" height=\"400\"/>\n",
       "  </clipPath>\n",
       "</defs>\n",
       "<polygon clip-path=\"url(#clip7400)\" points=\"\n",
       "54.0666,375.869 580.315,375.869 580.315,11.811 54.0666,11.811 \n",
       "  \" fill=\"#ffffff\" fill-opacity=\"1\"/>\n",
       "<defs>\n",
       "  <clipPath id=\"clip7402\">\n",
       "    <rect x=\"54\" y=\"11\" width=\"527\" height=\"365\"/>\n",
       "  </clipPath>\n",
       "</defs>\n",
       "<polyline clip-path=\"url(#clip7402)\" style=\"stroke:#000000; stroke-width:0.5; stroke-opacity:0.1; fill:none\" points=\"\n",
       "  68.9604,375.869 68.9604,11.811 \n",
       "  \"/>\n",
       "<polyline clip-path=\"url(#clip7402)\" style=\"stroke:#000000; stroke-width:0.5; stroke-opacity:0.1; fill:none\" points=\"\n",
       "  193.076,375.869 193.076,11.811 \n",
       "  \"/>\n",
       "<polyline clip-path=\"url(#clip7402)\" style=\"stroke:#000000; stroke-width:0.5; stroke-opacity:0.1; fill:none\" points=\"\n",
       "  317.191,375.869 317.191,11.811 \n",
       "  \"/>\n",
       "<polyline clip-path=\"url(#clip7402)\" style=\"stroke:#000000; stroke-width:0.5; stroke-opacity:0.1; fill:none\" points=\"\n",
       "  441.306,375.869 441.306,11.811 \n",
       "  \"/>\n",
       "<polyline clip-path=\"url(#clip7402)\" style=\"stroke:#000000; stroke-width:0.5; stroke-opacity:0.1; fill:none\" points=\"\n",
       "  565.421,375.869 565.421,11.811 \n",
       "  \"/>\n",
       "<polyline clip-path=\"url(#clip7402)\" style=\"stroke:#000000; stroke-width:0.5; stroke-opacity:0.1; fill:none\" points=\"\n",
       "  54.0666,331.777 580.315,331.777 \n",
       "  \"/>\n",
       "<polyline clip-path=\"url(#clip7402)\" style=\"stroke:#000000; stroke-width:0.5; stroke-opacity:0.1; fill:none\" points=\"\n",
       "  54.0666,262.809 580.315,262.809 \n",
       "  \"/>\n",
       "<polyline clip-path=\"url(#clip7402)\" style=\"stroke:#000000; stroke-width:0.5; stroke-opacity:0.1; fill:none\" points=\"\n",
       "  54.0666,193.84 580.315,193.84 \n",
       "  \"/>\n",
       "<polyline clip-path=\"url(#clip7402)\" style=\"stroke:#000000; stroke-width:0.5; stroke-opacity:0.1; fill:none\" points=\"\n",
       "  54.0666,124.871 580.315,124.871 \n",
       "  \"/>\n",
       "<polyline clip-path=\"url(#clip7402)\" style=\"stroke:#000000; stroke-width:0.5; stroke-opacity:0.1; fill:none\" points=\"\n",
       "  54.0666,55.9022 580.315,55.9022 \n",
       "  \"/>\n",
       "<polyline clip-path=\"url(#clip7400)\" style=\"stroke:#000000; stroke-width:1; stroke-opacity:1; fill:none\" points=\"\n",
       "  54.0666,375.869 580.315,375.869 \n",
       "  \"/>\n",
       "<polyline clip-path=\"url(#clip7400)\" style=\"stroke:#000000; stroke-width:1; stroke-opacity:1; fill:none\" points=\"\n",
       "  54.0666,375.869 54.0666,11.811 \n",
       "  \"/>\n",
       "<polyline clip-path=\"url(#clip7400)\" style=\"stroke:#000000; stroke-width:1; stroke-opacity:1; fill:none\" points=\"\n",
       "  68.9604,375.869 68.9604,370.408 \n",
       "  \"/>\n",
       "<polyline clip-path=\"url(#clip7400)\" style=\"stroke:#000000; stroke-width:1; stroke-opacity:1; fill:none\" points=\"\n",
       "  193.076,375.869 193.076,370.408 \n",
       "  \"/>\n",
       "<polyline clip-path=\"url(#clip7400)\" style=\"stroke:#000000; stroke-width:1; stroke-opacity:1; fill:none\" points=\"\n",
       "  317.191,375.869 317.191,370.408 \n",
       "  \"/>\n",
       "<polyline clip-path=\"url(#clip7400)\" style=\"stroke:#000000; stroke-width:1; stroke-opacity:1; fill:none\" points=\"\n",
       "  441.306,375.869 441.306,370.408 \n",
       "  \"/>\n",
       "<polyline clip-path=\"url(#clip7400)\" style=\"stroke:#000000; stroke-width:1; stroke-opacity:1; fill:none\" points=\"\n",
       "  565.421,375.869 565.421,370.408 \n",
       "  \"/>\n",
       "<polyline clip-path=\"url(#clip7400)\" style=\"stroke:#000000; stroke-width:1; stroke-opacity:1; fill:none\" points=\"\n",
       "  54.0666,331.777 61.9603,331.777 \n",
       "  \"/>\n",
       "<polyline clip-path=\"url(#clip7400)\" style=\"stroke:#000000; stroke-width:1; stroke-opacity:1; fill:none\" points=\"\n",
       "  54.0666,262.809 61.9603,262.809 \n",
       "  \"/>\n",
       "<polyline clip-path=\"url(#clip7400)\" style=\"stroke:#000000; stroke-width:1; stroke-opacity:1; fill:none\" points=\"\n",
       "  54.0666,193.84 61.9603,193.84 \n",
       "  \"/>\n",
       "<polyline clip-path=\"url(#clip7400)\" style=\"stroke:#000000; stroke-width:1; stroke-opacity:1; fill:none\" points=\"\n",
       "  54.0666,124.871 61.9603,124.871 \n",
       "  \"/>\n",
       "<polyline clip-path=\"url(#clip7400)\" style=\"stroke:#000000; stroke-width:1; stroke-opacity:1; fill:none\" points=\"\n",
       "  54.0666,55.9022 61.9603,55.9022 \n",
       "  \"/>\n",
       "<g clip-path=\"url(#clip7400)\">\n",
       "<text style=\"fill:#000000; fill-opacity:1; font-family:Arial,Helvetica Neue,Helvetica,sans-serif; font-size:12; text-anchor:middle;\" transform=\"rotate(0, 68.9604, 389.669)\" x=\"68.9604\" y=\"389.669\">0.00</text>\n",
       "</g>\n",
       "<g clip-path=\"url(#clip7400)\">\n",
       "<text style=\"fill:#000000; fill-opacity:1; font-family:Arial,Helvetica Neue,Helvetica,sans-serif; font-size:12; text-anchor:middle;\" transform=\"rotate(0, 193.076, 389.669)\" x=\"193.076\" y=\"389.669\">0.25</text>\n",
       "</g>\n",
       "<g clip-path=\"url(#clip7400)\">\n",
       "<text style=\"fill:#000000; fill-opacity:1; font-family:Arial,Helvetica Neue,Helvetica,sans-serif; font-size:12; text-anchor:middle;\" transform=\"rotate(0, 317.191, 389.669)\" x=\"317.191\" y=\"389.669\">0.50</text>\n",
       "</g>\n",
       "<g clip-path=\"url(#clip7400)\">\n",
       "<text style=\"fill:#000000; fill-opacity:1; font-family:Arial,Helvetica Neue,Helvetica,sans-serif; font-size:12; text-anchor:middle;\" transform=\"rotate(0, 441.306, 389.669)\" x=\"441.306\" y=\"389.669\">0.75</text>\n",
       "</g>\n",
       "<g clip-path=\"url(#clip7400)\">\n",
       "<text style=\"fill:#000000; fill-opacity:1; font-family:Arial,Helvetica Neue,Helvetica,sans-serif; font-size:12; text-anchor:middle;\" transform=\"rotate(0, 565.421, 389.669)\" x=\"565.421\" y=\"389.669\">1.00</text>\n",
       "</g>\n",
       "<g clip-path=\"url(#clip7400)\">\n",
       "<text style=\"fill:#000000; fill-opacity:1; font-family:Arial,Helvetica Neue,Helvetica,sans-serif; font-size:12; text-anchor:end;\" transform=\"rotate(0, 48.0666, 336.277)\" x=\"48.0666\" y=\"336.277\">-0.02</text>\n",
       "</g>\n",
       "<g clip-path=\"url(#clip7400)\">\n",
       "<text style=\"fill:#000000; fill-opacity:1; font-family:Arial,Helvetica Neue,Helvetica,sans-serif; font-size:12; text-anchor:end;\" transform=\"rotate(0, 48.0666, 267.309)\" x=\"48.0666\" y=\"267.309\">-0.01</text>\n",
       "</g>\n",
       "<g clip-path=\"url(#clip7400)\">\n",
       "<text style=\"fill:#000000; fill-opacity:1; font-family:Arial,Helvetica Neue,Helvetica,sans-serif; font-size:12; text-anchor:end;\" transform=\"rotate(0, 48.0666, 198.34)\" x=\"48.0666\" y=\"198.34\">0.00</text>\n",
       "</g>\n",
       "<g clip-path=\"url(#clip7400)\">\n",
       "<text style=\"fill:#000000; fill-opacity:1; font-family:Arial,Helvetica Neue,Helvetica,sans-serif; font-size:12; text-anchor:end;\" transform=\"rotate(0, 48.0666, 129.371)\" x=\"48.0666\" y=\"129.371\">0.01</text>\n",
       "</g>\n",
       "<g clip-path=\"url(#clip7400)\">\n",
       "<text style=\"fill:#000000; fill-opacity:1; font-family:Arial,Helvetica Neue,Helvetica,sans-serif; font-size:12; text-anchor:end;\" transform=\"rotate(0, 48.0666, 60.4022)\" x=\"48.0666\" y=\"60.4022\">0.02</text>\n",
       "</g>\n",
       "<polyline clip-path=\"url(#clip7402)\" style=\"stroke:#009af9; stroke-width:1; stroke-opacity:1; fill:none\" points=\"\n",
       "  68.9604,193.84 118.607,299.972 168.253,365.565 217.899,365.565 267.545,299.972 317.191,193.84 366.837,87.7078 416.483,22.1145 466.129,22.1145 515.775,87.7078 \n",
       "  565.421,193.84 \n",
       "  \"/>\n",
       "<polygon clip-path=\"url(#clip7400)\" points=\"\n",
       "493.627,62.931 562.315,62.931 562.315,32.691 493.627,32.691 \n",
       "  \" fill=\"#ffffff\" fill-opacity=\"1\"/>\n",
       "<polyline clip-path=\"url(#clip7400)\" style=\"stroke:#000000; stroke-width:1; stroke-opacity:1; fill:none\" points=\"\n",
       "  493.627,62.931 562.315,62.931 562.315,32.691 493.627,32.691 493.627,62.931 \n",
       "  \"/>\n",
       "<polyline clip-path=\"url(#clip7400)\" style=\"stroke:#009af9; stroke-width:1; stroke-opacity:1; fill:none\" points=\"\n",
       "  499.627,47.811 535.627,47.811 \n",
       "  \"/>\n",
       "<g clip-path=\"url(#clip7400)\">\n",
       "<text style=\"fill:#000000; fill-opacity:1; font-family:Arial,Helvetica Neue,Helvetica,sans-serif; font-size:12; text-anchor:start;\" transform=\"rotate(0, 541.627, 52.311)\" x=\"541.627\" y=\"52.311\">U</text>\n",
       "</g>\n",
       "</svg>\n"
      ]
     },
     "execution_count": 42,
     "metadata": {},
     "output_type": "execute_result"
    }
   ],
   "source": [
    "# Now we want to solve AU=B, so we use backslash:\n",
    "U = A\\B\n",
    "plot([0;x;1],[0;U;0],label=\"U\")"
   ]
  },
  {
   "cell_type": "markdown",
   "metadata": {
    "slideshow": {
     "slide_type": "slide"
    }
   },
   "source": [
    "## Did we do that correctly?\n",
    "\n",
    "This equation is simple enough we can check via the analytical solution. \n",
    "\n",
    "$$ u_{xx} = sin(2\\pi x) $$\n",
    "\n",
    "Integrate it twice:\n",
    "\n",
    "$$ u(x) = -\\frac{sin(2\\pi x)}{4\\pi^2} $$"
   ]
  },
  {
   "cell_type": "code",
   "execution_count": 43,
   "metadata": {
    "slideshow": {
     "slide_type": "slide"
    }
   },
   "outputs": [
    {
     "data": {
      "image/svg+xml": [
       "<?xml version=\"1.0\" encoding=\"utf-8\"?>\n",
       "<svg xmlns=\"http://www.w3.org/2000/svg\" xmlns:xlink=\"http://www.w3.org/1999/xlink\" width=\"600\" height=\"400\" viewBox=\"0 0 600 400\">\n",
       "<defs>\n",
       "  <clipPath id=\"clip7600\">\n",
       "    <rect x=\"0\" y=\"0\" width=\"600\" height=\"400\"/>\n",
       "  </clipPath>\n",
       "</defs>\n",
       "<polygon clip-path=\"url(#clip7600)\" points=\"\n",
       "0,400 600,400 600,0 0,0 \n",
       "  \" fill=\"#ffffff\" fill-opacity=\"1\"/>\n",
       "<defs>\n",
       "  <clipPath id=\"clip7601\">\n",
       "    <rect x=\"120\" y=\"0\" width=\"421\" height=\"400\"/>\n",
       "  </clipPath>\n",
       "</defs>\n",
       "<polygon clip-path=\"url(#clip7600)\" points=\"\n",
       "54.0666,375.869 580.315,375.869 580.315,11.811 54.0666,11.811 \n",
       "  \" fill=\"#ffffff\" fill-opacity=\"1\"/>\n",
       "<defs>\n",
       "  <clipPath id=\"clip7602\">\n",
       "    <rect x=\"54\" y=\"11\" width=\"527\" height=\"365\"/>\n",
       "  </clipPath>\n",
       "</defs>\n",
       "<polyline clip-path=\"url(#clip7602)\" style=\"stroke:#000000; stroke-width:0.5; stroke-opacity:0.1; fill:none\" points=\"\n",
       "  68.9604,375.869 68.9604,11.811 \n",
       "  \"/>\n",
       "<polyline clip-path=\"url(#clip7602)\" style=\"stroke:#000000; stroke-width:0.5; stroke-opacity:0.1; fill:none\" points=\"\n",
       "  193.076,375.869 193.076,11.811 \n",
       "  \"/>\n",
       "<polyline clip-path=\"url(#clip7602)\" style=\"stroke:#000000; stroke-width:0.5; stroke-opacity:0.1; fill:none\" points=\"\n",
       "  317.191,375.869 317.191,11.811 \n",
       "  \"/>\n",
       "<polyline clip-path=\"url(#clip7602)\" style=\"stroke:#000000; stroke-width:0.5; stroke-opacity:0.1; fill:none\" points=\"\n",
       "  441.306,375.869 441.306,11.811 \n",
       "  \"/>\n",
       "<polyline clip-path=\"url(#clip7602)\" style=\"stroke:#000000; stroke-width:0.5; stroke-opacity:0.1; fill:none\" points=\"\n",
       "  565.421,375.869 565.421,11.811 \n",
       "  \"/>\n",
       "<polyline clip-path=\"url(#clip7602)\" style=\"stroke:#000000; stroke-width:0.5; stroke-opacity:0.1; fill:none\" points=\"\n",
       "  54.0666,331.777 580.315,331.777 \n",
       "  \"/>\n",
       "<polyline clip-path=\"url(#clip7602)\" style=\"stroke:#000000; stroke-width:0.5; stroke-opacity:0.1; fill:none\" points=\"\n",
       "  54.0666,262.809 580.315,262.809 \n",
       "  \"/>\n",
       "<polyline clip-path=\"url(#clip7602)\" style=\"stroke:#000000; stroke-width:0.5; stroke-opacity:0.1; fill:none\" points=\"\n",
       "  54.0666,193.84 580.315,193.84 \n",
       "  \"/>\n",
       "<polyline clip-path=\"url(#clip7602)\" style=\"stroke:#000000; stroke-width:0.5; stroke-opacity:0.1; fill:none\" points=\"\n",
       "  54.0666,124.871 580.315,124.871 \n",
       "  \"/>\n",
       "<polyline clip-path=\"url(#clip7602)\" style=\"stroke:#000000; stroke-width:0.5; stroke-opacity:0.1; fill:none\" points=\"\n",
       "  54.0666,55.9022 580.315,55.9022 \n",
       "  \"/>\n",
       "<polyline clip-path=\"url(#clip7600)\" style=\"stroke:#000000; stroke-width:1; stroke-opacity:1; fill:none\" points=\"\n",
       "  54.0666,375.869 580.315,375.869 \n",
       "  \"/>\n",
       "<polyline clip-path=\"url(#clip7600)\" style=\"stroke:#000000; stroke-width:1; stroke-opacity:1; fill:none\" points=\"\n",
       "  54.0666,375.869 54.0666,11.811 \n",
       "  \"/>\n",
       "<polyline clip-path=\"url(#clip7600)\" style=\"stroke:#000000; stroke-width:1; stroke-opacity:1; fill:none\" points=\"\n",
       "  68.9604,375.869 68.9604,370.408 \n",
       "  \"/>\n",
       "<polyline clip-path=\"url(#clip7600)\" style=\"stroke:#000000; stroke-width:1; stroke-opacity:1; fill:none\" points=\"\n",
       "  193.076,375.869 193.076,370.408 \n",
       "  \"/>\n",
       "<polyline clip-path=\"url(#clip7600)\" style=\"stroke:#000000; stroke-width:1; stroke-opacity:1; fill:none\" points=\"\n",
       "  317.191,375.869 317.191,370.408 \n",
       "  \"/>\n",
       "<polyline clip-path=\"url(#clip7600)\" style=\"stroke:#000000; stroke-width:1; stroke-opacity:1; fill:none\" points=\"\n",
       "  441.306,375.869 441.306,370.408 \n",
       "  \"/>\n",
       "<polyline clip-path=\"url(#clip7600)\" style=\"stroke:#000000; stroke-width:1; stroke-opacity:1; fill:none\" points=\"\n",
       "  565.421,375.869 565.421,370.408 \n",
       "  \"/>\n",
       "<polyline clip-path=\"url(#clip7600)\" style=\"stroke:#000000; stroke-width:1; stroke-opacity:1; fill:none\" points=\"\n",
       "  54.0666,331.777 61.9603,331.777 \n",
       "  \"/>\n",
       "<polyline clip-path=\"url(#clip7600)\" style=\"stroke:#000000; stroke-width:1; stroke-opacity:1; fill:none\" points=\"\n",
       "  54.0666,262.809 61.9603,262.809 \n",
       "  \"/>\n",
       "<polyline clip-path=\"url(#clip7600)\" style=\"stroke:#000000; stroke-width:1; stroke-opacity:1; fill:none\" points=\"\n",
       "  54.0666,193.84 61.9603,193.84 \n",
       "  \"/>\n",
       "<polyline clip-path=\"url(#clip7600)\" style=\"stroke:#000000; stroke-width:1; stroke-opacity:1; fill:none\" points=\"\n",
       "  54.0666,124.871 61.9603,124.871 \n",
       "  \"/>\n",
       "<polyline clip-path=\"url(#clip7600)\" style=\"stroke:#000000; stroke-width:1; stroke-opacity:1; fill:none\" points=\"\n",
       "  54.0666,55.9022 61.9603,55.9022 \n",
       "  \"/>\n",
       "<g clip-path=\"url(#clip7600)\">\n",
       "<text style=\"fill:#000000; fill-opacity:1; font-family:Arial,Helvetica Neue,Helvetica,sans-serif; font-size:12; text-anchor:middle;\" transform=\"rotate(0, 68.9604, 389.669)\" x=\"68.9604\" y=\"389.669\">0.00</text>\n",
       "</g>\n",
       "<g clip-path=\"url(#clip7600)\">\n",
       "<text style=\"fill:#000000; fill-opacity:1; font-family:Arial,Helvetica Neue,Helvetica,sans-serif; font-size:12; text-anchor:middle;\" transform=\"rotate(0, 193.076, 389.669)\" x=\"193.076\" y=\"389.669\">0.25</text>\n",
       "</g>\n",
       "<g clip-path=\"url(#clip7600)\">\n",
       "<text style=\"fill:#000000; fill-opacity:1; font-family:Arial,Helvetica Neue,Helvetica,sans-serif; font-size:12; text-anchor:middle;\" transform=\"rotate(0, 317.191, 389.669)\" x=\"317.191\" y=\"389.669\">0.50</text>\n",
       "</g>\n",
       "<g clip-path=\"url(#clip7600)\">\n",
       "<text style=\"fill:#000000; fill-opacity:1; font-family:Arial,Helvetica Neue,Helvetica,sans-serif; font-size:12; text-anchor:middle;\" transform=\"rotate(0, 441.306, 389.669)\" x=\"441.306\" y=\"389.669\">0.75</text>\n",
       "</g>\n",
       "<g clip-path=\"url(#clip7600)\">\n",
       "<text style=\"fill:#000000; fill-opacity:1; font-family:Arial,Helvetica Neue,Helvetica,sans-serif; font-size:12; text-anchor:middle;\" transform=\"rotate(0, 565.421, 389.669)\" x=\"565.421\" y=\"389.669\">1.00</text>\n",
       "</g>\n",
       "<g clip-path=\"url(#clip7600)\">\n",
       "<text style=\"fill:#000000; fill-opacity:1; font-family:Arial,Helvetica Neue,Helvetica,sans-serif; font-size:12; text-anchor:end;\" transform=\"rotate(0, 48.0666, 336.277)\" x=\"48.0666\" y=\"336.277\">-0.02</text>\n",
       "</g>\n",
       "<g clip-path=\"url(#clip7600)\">\n",
       "<text style=\"fill:#000000; fill-opacity:1; font-family:Arial,Helvetica Neue,Helvetica,sans-serif; font-size:12; text-anchor:end;\" transform=\"rotate(0, 48.0666, 267.309)\" x=\"48.0666\" y=\"267.309\">-0.01</text>\n",
       "</g>\n",
       "<g clip-path=\"url(#clip7600)\">\n",
       "<text style=\"fill:#000000; fill-opacity:1; font-family:Arial,Helvetica Neue,Helvetica,sans-serif; font-size:12; text-anchor:end;\" transform=\"rotate(0, 48.0666, 198.34)\" x=\"48.0666\" y=\"198.34\">0.00</text>\n",
       "</g>\n",
       "<g clip-path=\"url(#clip7600)\">\n",
       "<text style=\"fill:#000000; fill-opacity:1; font-family:Arial,Helvetica Neue,Helvetica,sans-serif; font-size:12; text-anchor:end;\" transform=\"rotate(0, 48.0666, 129.371)\" x=\"48.0666\" y=\"129.371\">0.01</text>\n",
       "</g>\n",
       "<g clip-path=\"url(#clip7600)\">\n",
       "<text style=\"fill:#000000; fill-opacity:1; font-family:Arial,Helvetica Neue,Helvetica,sans-serif; font-size:12; text-anchor:end;\" transform=\"rotate(0, 48.0666, 60.4022)\" x=\"48.0666\" y=\"60.4022\">0.02</text>\n",
       "</g>\n",
       "<polyline clip-path=\"url(#clip7602)\" style=\"stroke:#009af9; stroke-width:1; stroke-opacity:1; fill:none\" points=\"\n",
       "  68.9604,193.84 118.607,299.972 168.253,365.565 217.899,365.565 267.545,299.972 317.191,193.84 366.837,87.7078 416.483,22.1145 466.129,22.1145 515.775,87.7078 \n",
       "  565.421,193.84 \n",
       "  \"/>\n",
       "<polyline clip-path=\"url(#clip7602)\" style=\"stroke:#e26f46; stroke-width:1; stroke-opacity:1; fill:none\" points=\"\n",
       "  68.9604,193.84 118.607,296.526 168.253,359.989 217.899,359.989 267.545,296.526 317.191,193.84 366.837,91.1538 416.483,27.6903 466.129,27.6903 515.775,91.1538 \n",
       "  565.421,193.84 \n",
       "  \"/>\n",
       "<polygon clip-path=\"url(#clip7600)\" points=\"\n",
       "404.002,78.051 562.315,78.051 562.315,32.691 404.002,32.691 \n",
       "  \" fill=\"#ffffff\" fill-opacity=\"1\"/>\n",
       "<polyline clip-path=\"url(#clip7600)\" style=\"stroke:#000000; stroke-width:1; stroke-opacity:1; fill:none\" points=\"\n",
       "  404.002,78.051 562.315,78.051 562.315,32.691 404.002,32.691 404.002,78.051 \n",
       "  \"/>\n",
       "<polyline clip-path=\"url(#clip7600)\" style=\"stroke:#009af9; stroke-width:1; stroke-opacity:1; fill:none\" points=\"\n",
       "  410.002,47.811 446.002,47.811 \n",
       "  \"/>\n",
       "<g clip-path=\"url(#clip7600)\">\n",
       "<text style=\"fill:#000000; fill-opacity:1; font-family:Arial,Helvetica Neue,Helvetica,sans-serif; font-size:12; text-anchor:start;\" transform=\"rotate(0, 452.002, 52.311)\" x=\"452.002\" y=\"52.311\">U</text>\n",
       "</g>\n",
       "<polyline clip-path=\"url(#clip7600)\" style=\"stroke:#e26f46; stroke-width:1; stroke-opacity:1; fill:none\" points=\"\n",
       "  410.002,62.931 446.002,62.931 \n",
       "  \"/>\n",
       "<g clip-path=\"url(#clip7600)\">\n",
       "<text style=\"fill:#000000; fill-opacity:1; font-family:Arial,Helvetica Neue,Helvetica,sans-serif; font-size:12; text-anchor:start;\" transform=\"rotate(0, 452.002, 67.431)\" x=\"452.002\" y=\"67.431\">Analytical Solution</text>\n",
       "</g>\n",
       "</svg>\n"
      ]
     },
     "execution_count": 43,
     "metadata": {},
     "output_type": "execute_result"
    }
   ],
   "source": [
    "# Now we want to solve AU=B, so we use backslash:\n",
    "plot([0;x;1],[0;U;0],label=\"U\")\n",
    "plot!([0;x;1],-sin.(2π*[0;x;1])/4(π^2),label=\"Analytical Solution\")"
   ]
  },
  {
   "cell_type": "markdown",
   "metadata": {
    "slideshow": {
     "slide_type": "slide"
    }
   },
   "source": [
    "## Recap\n",
    "\n",
    "We solved the PDE $$\\Delta u = b $$ by transforming our functions into vectors of numbers $U$ and $B$, transforming second derivative into a linear operator (a matrix) $A$, and solving $AU = B$ using backslash.\n",
    "\n",
    "Does this method generally apply?\n",
    "\n",
    "Pretty much.\n",
    "\n",
    "#### Because derivatives are linear, when you discretize a function, the derivative operators become linear operators = matrices"
   ]
  },
  {
   "cell_type": "markdown",
   "metadata": {
    "slideshow": {
     "slide_type": "slide"
    }
   },
   "source": [
    "## Semilinear Poisson Equation\n",
    "\n",
    "$$ \\Delta u = f(u) $$\n",
    "\n",
    "Now the right hand side is dependent on $u$! Let's choose the same discretization and the same representation of the derivatives. Then once again $ \\Delta u = AU$ for the same matrix $A$. Now we get the equation:\n",
    "\n",
    "$$ AU = f(U) $$\n",
    "\n",
    "Find the vector of $U$ which satisfy this nonlinear system! If we redefine:\n",
    "\n",
    "$$ G(U) = f(U) - AU $$\n",
    "\n",
    "then we are looking for the vector $U$ which causes $G(U) = 0$.\n",
    "\n",
    "#### tl;dr: Semilinear equations convert into nonlinear rootfinding problems"
   ]
  },
  {
   "cell_type": "markdown",
   "metadata": {
    "slideshow": {
     "slide_type": "slide"
    }
   },
   "source": [
    "## Semilinear Heat Equation\n",
    "\n",
    "$$ u_t = u_{xx} + f(u,t) $$\n",
    "\n",
    "Discretize the function the same way as before. This once again makes $u_{xx} = AU$. Thus letting $U_t$ be the time derivative of each point in the vector, we get:\n",
    "\n",
    "$$ U_t = AU + f(U,t) $$\n",
    "\n",
    "but since there's now only one coordinate, let the derivative be by time. Then we can write this as:\n",
    "\n",
    "$$ U' = AU + f(U,t) $$\n",
    "\n",
    "This is an ODE!\n",
    "\n",
    "#### tl;dr: Time-dependent PDEs (can) convert into ODE problems!"
   ]
  },
  {
   "cell_type": "markdown",
   "metadata": {
    "slideshow": {
     "slide_type": "slide"
    }
   },
   "source": [
    "## Loose End: Higher Dimensions Do The Same Thing\n",
    "\n",
    "Now let's look at $$ \\Delta u = u_{xx} + u_{yy} = b(x,y) $$ on $x \\in [0,1], y \\in [0,1]$. \n",
    "\n",
    "In this case, you can let $u_{i,j} = u(x_i,y_i)$ where $x_i = i\\Delta x$ and $y_i = i\\Delta y$. You can list out all of the $u_{i,j}$ into a vector $U$ by lexicographic ordering:\n",
    "\n",
    "$$ U=\\left[\\begin{array}{c}\n",
    "u_{1,1}\\\\\n",
    "u_{2,1}\\\\\n",
    "\\vdots\\\\\n",
    "u_{N-1,}\\\\\n",
    "u_{N,1}\\\\\n",
    "u_{1,2}\\\\\n",
    "\\vdots\\\\\n",
    "u_{N,M}\n",
    "\\end{array}\\right] $$\n",
    "\n",
    "$$ \\Delta u = u_{xx} + u_{yy} \\approx \\frac{u_{i+1,j} - 2u_{i,j} + u_{i-1,j}}{\\Delta x^2} + \\frac{u_{i,j+1} -2 u_{i,j} + u_{i,j-1}}{\\Delta y^2} = AU$$\n",
    "\n",
    "for some A. Now solve $AU=B$"
   ]
  },
  {
   "cell_type": "markdown",
   "metadata": {
    "slideshow": {
     "slide_type": "slide"
    }
   },
   "source": [
    "## Part 1 Summary\n",
    "\n",
    "To solve a PDE, \n",
    "\n",
    "- You choose a way to represent functions.\n",
    "- You choose a way to represent your derivative (and on the function representation, your derivative representation is a matrix!)\n",
    "\n",
    "Then when you write out your PDE, you get one of the following problems:\n",
    "\n",
    "- Linear systems: `Ax = b` find `x`.\n",
    "- Nonlinear systems: `G(x) = 0` find `x`.\n",
    "- ODEs: `u' = f(u,p,t)`, find `u`."
   ]
  },
  {
   "cell_type": "markdown",
   "metadata": {
    "slideshow": {
     "slide_type": "slide"
    }
   },
   "source": [
    "## Part 2: The Many Ways to Discretize\n",
    "\n",
    "There are thus 4 types of packages in the PDE solver pipeline:\n",
    "\n",
    "- Packages with ways to represent functions as vectors of numbers and their derivatives as matrices\n",
    "- Packages which solve linear systems\n",
    "- Packages which solve nonlinear rootfinding problems\n",
    "- Packages which solve ODEs\n",
    "\n",
    "In this part we will look at the many ways you can discretize a PDE."
   ]
  },
  {
   "cell_type": "markdown",
   "metadata": {
    "slideshow": {
     "slide_type": "slide"
    }
   },
   "source": [
    "## Part 2.1: Packages to Represent Functions and Derivatives\n",
    "\n",
    "There are four main ways to represet functions and derivatives as vectors:\n",
    "\n",
    "- Finite difference method (FDM): functions are represented on a grid. Packages: DiffEqOperators.jl (still developing)\n",
    "- Finite volume method (FVM): functions are represented by a discretization of its integral. Currently no strong generic package support.\n",
    "- Finite element method (FEM): functions are represented by a local basis. FEniCS.jl, JuliaFEM and JuAFEM.jl\n",
    "- Spectral methods: functions are represented by a global basis. FFTW.jl and ApproxFun.jl "
   ]
  },
  {
   "cell_type": "markdown",
   "metadata": {
    "slideshow": {
     "slide_type": "slide"
    }
   },
   "source": [
    "## Finite Difference method: DiffEqOperators.jl\n",
    "\n",
    "DiffEqOperators.jl is part of the JuliaDiffEq ecosystem. It automatically develops lazy operators for finite difference discretizations (functions represented on a grid). For example, to represent $u_{xx}$, we'd do:"
   ]
  },
  {
   "cell_type": "code",
   "execution_count": 46,
   "metadata": {
    "slideshow": {
     "slide_type": "fragment"
    }
   },
   "outputs": [
    {
     "data": {
      "text/plain": [
       "DiffEqOperators.DerivativeOperator{Float64,StaticArrays.SArray{Tuple{3},Float64,1,3},:Dirichlet0,:Dirichlet0}(2, 2, 0.1, 9, 3, [1.0, -2.0, 1.0], (3, 3), (4, 4), Base.RefValue{Array{Array{Float64,1},1}}(Array{Float64,1}[]), Base.RefValue{Array{Array{Float64,1},1}}(Array{Float64,1}[]), Base.RefValue{Tuple{Tuple{Float64,Float64,Any},Tuple{Float64,Float64,Any}}}(((1.0, 0.0, 0.0), (1.0, 0.0, 0.0))), Base.RefValue{Int64}(0))"
      ]
     },
     "execution_count": 46,
     "metadata": {},
     "output_type": "execute_result"
    }
   ],
   "source": [
    "using DiffEqOperators\n",
    "# Second order approximation to the second derivative\n",
    "order = 2\n",
    "deriv = 2\n",
    "Δx = 0.1\n",
    "N = 9\n",
    "A = DerivativeOperator{Float64}(order,deriv,Δx,N,:Dirichlet0,:Dirichlet0)"
   ]
  },
  {
   "cell_type": "markdown",
   "metadata": {
    "slideshow": {
     "slide_type": "fragment"
    }
   },
   "source": [
    "This `A` is lazy: it acts `A*u` like it was a matrix but without ever building the matrix by overloading `*` and directly computing the coefficients. This makes it efficient, using $\\mathcal{O}(1)$ memory while not having the overhead of sparse matrices!"
   ]
  },
  {
   "cell_type": "markdown",
   "metadata": {
    "slideshow": {
     "slide_type": "slide"
    }
   },
   "source": [
    "This package also makes it easy to generate the matrices without much work. For example, let's get a 2nd order discretization of $u_{xxxx}$:"
   ]
  },
  {
   "cell_type": "code",
   "execution_count": 49,
   "metadata": {
    "slideshow": {
     "slide_type": "fragment"
    }
   },
   "outputs": [
    {
     "data": {
      "text/plain": [
       "9×9 Array{Float64,2}:\n",
       "  60000.0  -40000.0   10000.0       0.0  …       0.0       0.0       0.0\n",
       " -40000.0   60000.0  -40000.0   10000.0          0.0       0.0       0.0\n",
       "  10000.0  -40000.0   60000.0  -40000.0          0.0       0.0       0.0\n",
       "      0.0   10000.0  -40000.0   60000.0          0.0       0.0       0.0\n",
       "      0.0       0.0   10000.0  -40000.0      10000.0       0.0       0.0\n",
       "      0.0       0.0       0.0   10000.0  …  -40000.0   10000.0       0.0\n",
       "      0.0       0.0       0.0       0.0      60000.0  -40000.0   10000.0\n",
       "      0.0       0.0       0.0       0.0     -40000.0   60000.0  -40000.0\n",
       "      0.0       0.0       0.0       0.0      10000.0  -40000.0   60000.0"
      ]
     },
     "execution_count": 49,
     "metadata": {},
     "output_type": "execute_result"
    }
   ],
   "source": [
    "full(DerivativeOperator{Float64}(4,2,Δx,N,:Dirichlet0,:Dirichlet0))"
   ]
  },
  {
   "cell_type": "markdown",
   "metadata": {
    "slideshow": {
     "slide_type": "slide"
    }
   },
   "source": [
    "#### This package is still in heavy development: improved boundary condition handling and irregular grid support is coming"
   ]
  },
  {
   "cell_type": "markdown",
   "metadata": {
    "slideshow": {
     "slide_type": "slide"
    }
   },
   "source": [
    "## Brief brief brief overview of finite element methods\n",
    "\n",
    "Represent your function $u(x) = \\sum_i c_i \\varphi_i(x) $ with some chosen basis $\\varphi_i(x)$.\n",
    "\n",
    "\"Matrix Assembly\" = calculate the matrix representations of the derivatives in this function representation. The core of an FEM package is its matrix assembly tools.\n",
    "\n",
    "#### Finite difference method is good if your domain is a square / hypercube. Finite element methods can solve PDEs on more complicated domains"
   ]
  },
  {
   "cell_type": "markdown",
   "metadata": {
    "slideshow": {
     "slide_type": "slide"
    }
   },
   "source": [
    "## 1D Basis Example\n",
    "\n",
    "![Hat Functions](http://hplgit.github.io/INF5620/doc/pub/sphinx-fem/_images/mpl_fe_basis_p1_4e_lab.png)"
   ]
  },
  {
   "cell_type": "markdown",
   "metadata": {
    "slideshow": {
     "slide_type": "slide"
    }
   },
   "source": [
    "![Basis to coordinates](http://www.iue.tuwien.ac.at/phd/singulani/images/Picture23.png)"
   ]
  },
  {
   "cell_type": "markdown",
   "metadata": {
    "slideshow": {
     "slide_type": "slide"
    }
   },
   "source": [
    "![Basis representation](http://www.iue.tuwien.ac.at/phd/singulani/images/Picture20.png)"
   ]
  },
  {
   "cell_type": "markdown",
   "metadata": {
    "slideshow": {
     "slide_type": "slide"
    }
   },
   "source": [
    "## 2D Basis Elements\n",
    "\n",
    "![2D Basis Elements](https://people.sc.fsu.edu/~jburkardt/m_src/fem_basis_t3_display/square_node13.png)"
   ]
  },
  {
   "cell_type": "markdown",
   "metadata": {
    "slideshow": {
     "slide_type": "slide"
    }
   },
   "source": [
    "## FEM Easily Handle Difficult Domains\n",
    "\n",
    "![2D Mesh](http://hplgit.github.io/INF5620/doc/pub/H14/fem/html/fig-fem/dolfin_mesh.png)"
   ]
  },
  {
   "cell_type": "markdown",
   "metadata": {
    "slideshow": {
     "slide_type": "slide"
    }
   },
   "source": [
    "![3D finite elements](https://upload.wikimedia.org/wikipedia/commons/4/4a/FAE_visualization.jpg)"
   ]
  },
  {
   "cell_type": "markdown",
   "metadata": {
    "slideshow": {
     "slide_type": "slide"
    }
   },
   "source": [
    "## FEM Package 1: FEniCS.jl\n",
    "\n",
    "FEniCS is a well-known finite element package for Python (fellow NumFOCUS project!). It lets you describe the kind of PDE you want to solve and what elements (basis functions) you want to discretize with in a DSL, and it handles the rest.\n",
    "\n",
    "FEniCS.jl is a wrapper over FEniCS which is maintained by the JuliaDiffEq organization. \n",
    "\n",
    "- Pro: very full featured (since it's wrapping an existing package). Linear solvers are built in. \n",
    "- Con: not Julia-based, so it's missing a lot of the fancy Julia features (generic programming, arbitrary number types, etc.)"
   ]
  },
  {
   "cell_type": "code",
   "execution_count": null,
   "metadata": {
    "slideshow": {
     "slide_type": "slide"
    }
   },
   "outputs": [],
   "source": [
    "using FEniCS\n",
    "mesh = UnitSquareMesh(8,8)\n",
    "V = FunctionSpace(mesh,\"P\",1)\n",
    "u_D = Expression(\"1+x[0]*x[0]+2*x[1]*x[1]\", degree=2)\n",
    "u = TrialFunction(V)\n",
    "bc1 = DirichletBC(V,u_D, \"on_boundary\")\n",
    "v = TestFunction(V)\n",
    "f = Constant(-6.0)\n",
    "a = dot(grad(u),grad(v))*dx\n",
    "L = f*v*dx\n",
    "U = FEniCS.Function(V)\n",
    "lvsolve(a,L,U,bc1) #linear variational solver"
   ]
  },
  {
   "cell_type": "markdown",
   "metadata": {
    "slideshow": {
     "slide_type": "slide"
    }
   },
   "source": [
    "## FEM Package 2: JuliaFEM\n",
    "\n",
    "JuliaFEM is an organization with a suite of packages for performing finite element discretizations. It focuses on FEM discretizations of physical PDEs and integrates with Julia's linear solver, nonlinear rootfinding, and DifferentialEquations.jl libraries to ease the full PDE solving process."
   ]
  },
  {
   "cell_type": "markdown",
   "metadata": {
    "slideshow": {
     "slide_type": "slide"
    }
   },
   "source": [
    "![JuliaFEM](http://www.juliafem.org/JuliaFEM.jl/latest/examples/2d_hertz_contact/results_displacement.png)"
   ]
  },
  {
   "cell_type": "markdown",
   "metadata": {
    "slideshow": {
     "slide_type": "slide"
    }
   },
   "source": [
    "## FEM Package 3: JuAFEM.jl\n",
    "\n",
    "JuAFEM.jl is a FEM toolbox. It gives you functionality that makes it easier to write matrix assembly routines."
   ]
  },
  {
   "cell_type": "code",
   "execution_count": null,
   "metadata": {
    "slideshow": {
     "slide_type": "slide"
    }
   },
   "outputs": [],
   "source": [
    "function doassemble(cellvalues::CellScalarValues{dim}, K::SparseMatrixCSC, dh::DofHandler) where {dim}\n",
    "\n",
    "    n_basefuncs = getnbasefunctions(cellvalues)\n",
    "    Ke = zeros(n_basefuncs, n_basefuncs)\n",
    "    fe = zeros(n_basefuncs)\n",
    "\n",
    "    f = zeros(ndofs(dh))\n",
    "    assembler = start_assemble(K, f)\n",
    "\n",
    "    @inbounds for cell in CellIterator(dh)\n",
    "\n",
    "        fill!(Ke, 0)\n",
    "        fill!(fe, 0)\n",
    "\n",
    "        reinit!(cellvalues, cell)\n",
    "\n",
    "        for q_point in 1:getnquadpoints(cellvalues)\n",
    "            dΩ = getdetJdV(cellvalues, q_point)\n",
    "\n",
    "            for i in 1:n_basefuncs\n",
    "                v  = shape_value(cellvalues, q_point, i)\n",
    "                ∇v = shape_gradient(cellvalues, q_point, i)\n",
    "                fe[i] += v * dΩ\n",
    "                for j in 1:n_basefuncs\n",
    "                    ∇u = shape_gradient(cellvalues, q_point, j)\n",
    "                    Ke[i, j] += (∇v ⋅ ∇u) * dΩ\n",
    "                end\n",
    "            end\n",
    "        end\n",
    "\n",
    "        assemble!(assembler, celldofs(cell), fe, Ke)\n",
    "    end\n",
    "    return K, f\n",
    "end\n",
    "\n",
    "K, f = doassemble(cellvalues, K, dh);\n",
    "\n",
    "apply!(K, f, ch)\n",
    "u = K \\ f;"
   ]
  },
  {
   "cell_type": "markdown",
   "metadata": {
    "slideshow": {
     "slide_type": "slide"
    }
   },
   "source": [
    "## Spectral Methods\n",
    "\n",
    "Like finite element methods, spectral methods represent a function in a basis: $u(x) = \\sum_i c_i \\varphi_i(x) $ with some chosen basis $\\varphi_i(x)$.\n",
    "\n",
    "\"Spectral\" usually refers to global basis functions. For example, the Fourier basis of sines and cosines."
   ]
  },
  {
   "cell_type": "markdown",
   "metadata": {
    "slideshow": {
     "slide_type": "slide"
    }
   },
   "source": [
    "## Spectral Packages 1: FFTW.jl\n",
    "\n",
    "Okay, this is not necessarily a spectral discretization package. However, it is a package to change from a pointwise representation of a function to a Fourier representation via a Fast Fourier Transform (FFT). Thus if you want to find the coefficients $c_ki$ for\n",
    "\n",
    "$$ u(x) = \\sum_k c_k sin(kx) $$\n",
    "\n",
    "you'd use:"
   ]
  },
  {
   "cell_type": "code",
   "execution_count": 86,
   "metadata": {
    "slideshow": {
     "slide_type": "slide"
    }
   },
   "outputs": [
    {
     "data": {
      "text/plain": [
       "1×51 RowVector{Float64,Array{Float64,1}}:\n",
       " 5.27356e-18  0.994805  0.0135642  0.00760374  …  0.000635192  0.000634878"
      ]
     },
     "execution_count": 86,
     "metadata": {},
     "output_type": "execute_result"
    }
   ],
   "source": [
    "using FFTW\n",
    "x = linspace(0,2π,100)\n",
    "u(x) = sin(x)\n",
    "freqs = fft(u.(x))[1:length(x)÷2 + 1]\n",
    "c = 2*abs.(freqs/length(x))'"
   ]
  },
  {
   "cell_type": "markdown",
   "metadata": {
    "slideshow": {
     "slide_type": "fragment"
    }
   },
   "source": [
    "This corresponds to basically saying that $sin(x)$ is represented in the Fourier basis as:\n",
    "\n",
    "$$ sin(x) \\approx 5\\times 10^{-18} sin(0x) + 0.9948sin(x) + 0.014sin(2x) + 0.0076sin(3x) + \\ldots $$\n",
    " \n",
    "It almost got it, and you can see the slight discretization error. This goes away as you add more points. But now you can represent any periodic function!"
   ]
  },
  {
   "cell_type": "markdown",
   "metadata": {
    "slideshow": {
     "slide_type": "slide"
    }
   },
   "source": [
    "## Spectral Packages 2: ApproxFun.jl\n",
    "\n",
    "ApproxFun.jl is a package for easily approximating functions and their derivatives in a given basis, making it an ideal package for building spectral discretizations of PDEs. It utilizes lazy representations of infinite matrices to be efficient and save memory. It uses a type system to make the same code easy to translate between different basis choices."
   ]
  },
  {
   "cell_type": "markdown",
   "metadata": {
    "slideshow": {
     "slide_type": "slide"
    }
   },
   "source": [
    "## Representing a Function and its Derivative in the Fourier Basis\n",
    "\n",
    "Let's represent\n",
    "\n",
    "$$ r(x) = cos(cos(x-0.1)), $$\n",
    "\n",
    "in the Fourier basis, and build a matrix representation of the second derivative in this basis:"
   ]
  },
  {
   "cell_type": "code",
   "execution_count": 106,
   "metadata": {
    "slideshow": {
     "slide_type": "slide"
    }
   },
   "outputs": [
    {
     "data": {
      "text/plain": [
       "1×100 RowVector{Float64,Array{Float64,1}}:\n",
       " 0.765198  2.3331e-18  -2.36654e-17  -0.0456556  …  -1.77238e-17  -1.9984e-17"
      ]
     },
     "execution_count": 106,
     "metadata": {},
     "output_type": "execute_result"
    }
   ],
   "source": [
    "S = Fourier()\n",
    "n = 100\n",
    "T = ApproxFun.plan_transform(S, n)\n",
    "Ti = ApproxFun.plan_itransform(S, n)\n",
    "x = points(S, n)\n",
    "\n",
    "r = (T*cos.(cos.(x-0.1)))'"
   ]
  },
  {
   "cell_type": "code",
   "execution_count": 107,
   "metadata": {
    "slideshow": {
     "slide_type": "slide"
    }
   },
   "outputs": [
    {
     "data": {
      "text/plain": [
       "DerivativeWrapper:Fourier(【0.0,6.283185307179586❫)→Fourier(【0.0,6.283185307179586❫)\n",
       " 0.0    ⋅     ⋅     ⋅     ⋅     ⋅     ⋅      ⋅      ⋅      ⋅   ⋅\n",
       "  ⋅   -1.0    ⋅     ⋅     ⋅     ⋅     ⋅      ⋅      ⋅      ⋅   ⋅\n",
       "  ⋅     ⋅   -1.0    ⋅     ⋅     ⋅     ⋅      ⋅      ⋅      ⋅   ⋅\n",
       "  ⋅     ⋅     ⋅   -4.0    ⋅     ⋅     ⋅      ⋅      ⋅      ⋅   ⋅\n",
       "  ⋅     ⋅     ⋅     ⋅   -4.0    ⋅     ⋅      ⋅      ⋅      ⋅   ⋅\n",
       "  ⋅     ⋅     ⋅     ⋅     ⋅   -9.0    ⋅      ⋅      ⋅      ⋅   ⋅\n",
       "  ⋅     ⋅     ⋅     ⋅     ⋅     ⋅   -9.0     ⋅      ⋅      ⋅   ⋅\n",
       "  ⋅     ⋅     ⋅     ⋅     ⋅     ⋅     ⋅   -16.0     ⋅      ⋅   ⋅\n",
       "  ⋅     ⋅     ⋅     ⋅     ⋅     ⋅     ⋅      ⋅   -16.0     ⋅   ⋅\n",
       "  ⋅     ⋅     ⋅     ⋅     ⋅     ⋅     ⋅      ⋅      ⋅   -25.0  ⋅\n",
       "  ⋅     ⋅     ⋅     ⋅     ⋅     ⋅     ⋅      ⋅      ⋅      ⋅   ⋱"
      ]
     },
     "execution_count": 107,
     "metadata": {},
     "output_type": "execute_result"
    }
   ],
   "source": [
    "D2 = Derivative(S,2)"
   ]
  },
  {
   "cell_type": "markdown",
   "metadata": {
    "slideshow": {
     "slide_type": "slide"
    }
   },
   "source": [
    "## Now let's change to the Chebyshev basis:\n",
    "\n",
    "This basis is $$ \\sum_k c_k T_k(x) $$ for $T_k$ the Chebyschev polynomials $(1, x, 2x^2-1, 4x^3 - 3x, \\ldots)$"
   ]
  },
  {
   "cell_type": "code",
   "execution_count": 109,
   "metadata": {
    "slideshow": {
     "slide_type": "slide"
    }
   },
   "outputs": [
    {
     "data": {
      "text/plain": [
       "1×100 RowVector{Float64,Array{Float64,1}}:\n",
       " 0.712955  -0.0529031  0.155596  0.01012  …  -1.38778e-17  -7.21645e-18"
      ]
     },
     "execution_count": 109,
     "metadata": {},
     "output_type": "execute_result"
    }
   ],
   "source": [
    "S = Chebyshev()\n",
    "n = 100\n",
    "T = ApproxFun.plan_transform(S, n)\n",
    "Ti = ApproxFun.plan_itransform(S, n)\n",
    "x = points(S, n)\n",
    "\n",
    "r = (T*cos.(cos.(x-0.1)))'"
   ]
  },
  {
   "cell_type": "code",
   "execution_count": 110,
   "metadata": {
    "slideshow": {
     "slide_type": "slide"
    }
   },
   "outputs": [
    {
     "data": {
      "text/plain": [
       "ConcreteDerivative:Chebyshev(【-1.0,1.0】)→Ultraspherical(2,【-1.0,1.0】)\n",
       " ⋅  ⋅  4.0   ⋅    ⋅     ⋅     ⋅     ⋅     ⋅     ⋅   ⋅\n",
       " ⋅  ⋅   ⋅   6.0   ⋅     ⋅     ⋅     ⋅     ⋅     ⋅   ⋅\n",
       " ⋅  ⋅   ⋅    ⋅   8.0    ⋅     ⋅     ⋅     ⋅     ⋅   ⋅\n",
       " ⋅  ⋅   ⋅    ⋅    ⋅   10.0    ⋅     ⋅     ⋅     ⋅   ⋅\n",
       " ⋅  ⋅   ⋅    ⋅    ⋅     ⋅   12.0    ⋅     ⋅     ⋅   ⋅\n",
       " ⋅  ⋅   ⋅    ⋅    ⋅     ⋅     ⋅   14.0    ⋅     ⋅   ⋅\n",
       " ⋅  ⋅   ⋅    ⋅    ⋅     ⋅     ⋅     ⋅   16.0    ⋅   ⋅\n",
       " ⋅  ⋅   ⋅    ⋅    ⋅     ⋅     ⋅     ⋅     ⋅   18.0  ⋅\n",
       " ⋅  ⋅   ⋅    ⋅    ⋅     ⋅     ⋅     ⋅     ⋅     ⋅   ⋱\n",
       " ⋅  ⋅   ⋅    ⋅    ⋅     ⋅     ⋅     ⋅     ⋅     ⋅   ⋱\n",
       " ⋅  ⋅   ⋅    ⋅    ⋅     ⋅     ⋅     ⋅     ⋅     ⋅   ⋱"
      ]
     },
     "execution_count": 110,
     "metadata": {},
     "output_type": "execute_result"
    }
   ],
   "source": [
    "D2 = Derivative(S,2)"
   ]
  },
  {
   "cell_type": "markdown",
   "metadata": {
    "slideshow": {
     "slide_type": "slide"
    }
   },
   "source": [
    "## Part 2 Summary\n",
    "\n",
    "Using these packages, you can easily translate your PDE functions to coefficient vectors and your derivatives to matrices:\n",
    "\n",
    "- Use spectral methods or finite difference methods for cases with \"simple enough\" boundary conditions and on simple (square) domains\n",
    "- Use finite element packages to discretize complex spatial domains\n",
    "\n",
    "There are a lot more factors. Sometimes given discretizations are better/worse on given PDEs. There are mathematicians who spend their entire life researching the differences between discretization methods!"
   ]
  },
  {
   "cell_type": "markdown",
   "metadata": {
    "slideshow": {
     "slide_type": "slide"
    }
   },
   "source": [
    "## But now...\n",
    "\n",
    "Our PDE functions are now vectors of coefficients. Our PDE derivatives are now matrices. We are left with one of the following to solve:\n",
    "\n",
    "- Linear systems: `Ax = b` find `x`.\n",
    "- Nonlinear systems: `G(x) = 0` find `x`.\n",
    "- ODEs: `u' = f(u,p,t)`, find `u`.\n",
    "\n",
    "Each of these problems is a specific area of research in and of itself!"
   ]
  },
  {
   "cell_type": "markdown",
   "metadata": {
    "slideshow": {
     "slide_type": "slide"
    }
   },
   "source": [
    "## Part 3: Equation Solving\n",
    "\n",
    "In order to do equation solving correctly, we must make note of one important fact:\n",
    "\n",
    "#### The matrices which come out of a derivative discretization are often very sparse!\n",
    "\n",
    "- The finite difference matrix `[1 -2 1]` only has 3 non-zero values per row no matter what `N` is! This type of matrix is called tridiagonal. \n",
    "- For matrices which have more general semi-diagonal structures which are only non-zero near the center, they are called banded matrices.\n",
    "- Derivatives in Fourier space are diagonal! \n",
    "- Generic sparse matrices arise from FEM discretizations (since the derivatives only depend on nearby basis elements which are very few!).\n",
    "\n",
    "Thus solving PDEs is more specifically **equation solving with large numbers of equations and high sparsity with structure**"
   ]
  },
  {
   "cell_type": "markdown",
   "metadata": {
    "slideshow": {
     "slide_type": "slide"
    }
   },
   "source": [
    "## Part 3.1: Solving Large Sparse Linear Systems\n",
    "\n",
    "When solving $AU=B$ where $A$ arises from the derivative term in the PDE discretization, the structure of $A$ determines what type of method and what pacakage to use.\n",
    "\n",
    "- If `A` is tridiagonal, then Julia's `\\` will use a specialized fast method.\n",
    "- If `A` is small enough, then `\\` is a multithreaded LU or QR factorization which is fine.\n",
    "- If `A` is a banded matrix (many spectral discertizations and finite difference methods), then uses `BandedMatrix(A)\\B` from BandedMatrices.jl utilizes a fast LU/QR for this matrix type.\n",
    "- If `A` is a block banded matrix (blocking arises from lexicographical ordering when 2+ dimensional), then `BlockBandedMatrix(A)\\B` from BlockBandedMatrices.jl utilizes a fast LU/QR for this matrix type.\n",
    "- If `A` is a small enough sparse matrix, then Julia's Base `\\` will use SuperLUMT, a multithreaded sparse LU which will be fast if it has enough memory (hence small enough).\n",
    "- If `A` is a large sparse matrix (or matrix-free), then iterative methods are required. For this, there is IterativeSolvers.jl and JuliaSmoothOptimizers/Krylov.jl"
   ]
  },
  {
   "cell_type": "markdown",
   "metadata": {
    "slideshow": {
     "slide_type": "slide"
    }
   },
   "source": [
    "## Iterative Solvers\n",
    "\n",
    "Iterative solvers repeatedly calculate `A*U_k` in order to find a sequence such that $U_k \\rightarrow U $ where $AU=B$.\n",
    "\n",
    "#### Because iterative solvers only use multiplication, \"matrix-free\" operators, i.e. Julia types which just define `*`, can be used in these methods!\n",
    "\n",
    "IterativeSolvers.jl has many methods which are specialized for different forms of sparsity structures. For example, `cg` is a fast method for symmetric positive definite matrices. The fallback method for a general `A` is `gmres`. Let's give it a try on some random `AU=B` problem."
   ]
  },
  {
   "cell_type": "code",
   "execution_count": 9,
   "metadata": {
    "slideshow": {
     "slide_type": "slide"
    }
   },
   "outputs": [
    {
     "data": {
      "text/plain": [
       "9.074842391027969e-16"
      ]
     },
     "execution_count": 9,
     "metadata": {},
     "output_type": "execute_result"
    }
   ],
   "source": [
    "n = 10\n",
    "A = rand(n, n)\n",
    "B = rand(n)\n",
    "# Let's use the gmres method from IterativeSolvers.jl\n",
    "using IterativeSolvers\n",
    "U = gmres(A, B, tol = 1e-8) # Get at least within 1e-8 of the solution!\n",
    "norm(A*U - B)"
   ]
  },
  {
   "cell_type": "markdown",
   "metadata": {
    "slideshow": {
     "slide_type": "slide"
    }
   },
   "source": [
    "## Using a Matrix-Free Type\n",
    "\n",
    "Let's create a type that is the second order central difference derivative `[1 -2 1]` and solve the Poisson equation $\\Delta u = b$ with our matrix-free operator by using `gmres` instead of `\\`. We could just use DiffEqOperators.jl's lazy matrix here, but let's build the full example from scratch:"
   ]
  },
  {
   "cell_type": "code",
   "execution_count": 10,
   "metadata": {
    "slideshow": {
     "slide_type": "slide"
    }
   },
   "outputs": [
    {
     "data": {
      "text/plain": [
       "5.542226222109951e-15"
      ]
     },
     "execution_count": 10,
     "metadata": {},
     "output_type": "execute_result"
    }
   ],
   "source": [
    "struct SizedStrangMatrix\n",
    "    size::Tuple{Int,Int}\n",
    "end\n",
    "\n",
    "Base.eltype(A::SizedStrangMatrix) = Float64\n",
    "Base.size(A::SizedStrangMatrix) = A.size\n",
    "Base.size(A::SizedStrangMatrix,i::Int) = A.size[i]\n",
    "\n",
    "A = SizedStrangMatrix((length(B),length(B)))\n",
    "\n",
    "function Base.A_mul_B!(C,A::SizedStrangMatrix,B)\n",
    "    for i in 2:length(B)-1\n",
    "        C[i] = B[i-1] - 2B[i] + B[i+1]\n",
    "    end\n",
    "    C[1] = -2B[1] + B[2]\n",
    "    C[end] = B[end-1] - 2B[end]\n",
    "    C\n",
    "end\n",
    "Base.:*(A::SizedStrangMatrix,B::AbstractVector) = (C = similar(B); A_mul_B!(C,A,B))\n",
    "\n",
    "using IterativeSolvers\n",
    "U = gmres(A,B,tol=1e-14)\n",
    "norm(A*U - B)"
   ]
  },
  {
   "cell_type": "markdown",
   "metadata": {
    "slideshow": {
     "slide_type": "slide"
    }
   },
   "source": [
    "### LinearMaps.jl is a nice package for helping build matrix-free discretizations!"
   ]
  },
  {
   "cell_type": "markdown",
   "metadata": {
    "slideshow": {
     "slide_type": "slide"
    }
   },
   "source": [
    "## Preconditioning\n",
    "\n",
    "To solve the linear system $AU=B$ faster, you can use a preconditioners to partial solve the linear problem and thereby present a simpler problem to the iterative method. This is a deep deep area of research and the best preconditioner for your problem is highly dependent on your PDE, so I'm just going to point to some of the best packages in the area:\n",
    "\n",
    "- ILU.jl : Incomplete LU decompositions\n",
    "- IncompleteSelectedInversion.jl : incomplete LDLt decompositions\n",
    "- AlgebraicMultigrid.jl : An algebraic multigrid method\n",
    "\n",
    "You take one of these, plop it in as an additional argument to `gmres` and then it can go faster!"
   ]
  },
  {
   "cell_type": "markdown",
   "metadata": {
    "slideshow": {
     "slide_type": "slide"
    }
   },
   "source": [
    "## Linear Solver Parallelism Libraries\n",
    "\n",
    "Because of the ubiquity of solving large sparse linear systems in PDEs, there exists libraries which are dedicated to parallelizing the large scale sparse linear algebra. Julia packages for this are:\n",
    "\n",
    "- PETSc.jl\n",
    "- Trilinos.jl\n",
    "- Elemental.jl\n",
    "\n",
    "These packages allow you to distibute a linear solve computation amongst a whole cluster mixed with GPUs! But fundamentally the techniques are the same."
   ]
  },
  {
   "cell_type": "markdown",
   "metadata": {
    "slideshow": {
     "slide_type": "slide"
    }
   },
   "source": [
    "## Part 3.1 Recap\n",
    "\n",
    "Linear solving requires specializing on the matrix type:\n",
    "\n",
    "- If small enough or the structure is known, special methods should be used\n",
    "- If large enough or no sparsity structure to explot, Krylov methods like `gmres` need to be used.\n",
    "- If iterative (Krylov) methods are used, then a good preconditioner can heavily speed up the solving.\n",
    "- `\\`, Julia's LinearAlgebra special matrix types, BandedMatrices.jl, BlockBandedMatrices.jl, and IterativeSolvers.jl are your friends!"
   ]
  },
  {
   "cell_type": "markdown",
   "metadata": {
    "slideshow": {
     "slide_type": "slide"
    }
   },
   "source": [
    "## Part 3.2 Nonlinear Solvers\n",
    "\n",
    "Recall that if your data is a nonlinear function of your unknown then your PDE discretization doesn't produce a linear system but instead a nonlinear system $G(x) = 0$. There are a few packages for this case:\n",
    "\n",
    "- NLSolve.jl\n",
    "- Sundials.jl (KINSOL)\n",
    "- MINPACK.jl\n",
    "\n",
    "These have not been benchmarked against each other ( https://github.com/JuliaNLSolvers/NLsolve.jl/issues/159 go do it!) but have different characteristics."
   ]
  },
  {
   "cell_type": "markdown",
   "metadata": {
    "slideshow": {
     "slide_type": "slide"
    }
   },
   "source": [
    "## Quick Note: Don't use optimization routines to solve rootfinding problems\n",
    "\n",
    "$G(x) = 0$ is theoretically the same as finding the minimum of $\\Vert G(x) \\Vert$ (which should be zero!). However, this is bad:\n",
    "\n",
    "- Optimization methods are generally rootfinding methods on the derivative, since an optima is found when the derivative is zero!\n",
    "- Optimization methods generally use higher order derivatives. For example, Newton's method for optimization uses the second derivative (the Hessian), instead of the first derivative (the Jacobian), so it's more error prone and more expensive.\n",
    "\n",
    "Just don't do it."
   ]
  },
  {
   "cell_type": "markdown",
   "metadata": {
    "slideshow": {
     "slide_type": "slide"
    }
   },
   "source": [
    "## Why not Roots.jl?\n",
    "\n",
    "Roots.jl is for univariate rootfinding problems. Here `G(x)` is a large vector, so Roots.jl does not apply."
   ]
  },
  {
   "cell_type": "markdown",
   "metadata": {
    "slideshow": {
     "slide_type": "slide"
    }
   },
   "source": [
    "## KINSOL.jl\n",
    "\n",
    "KINSOL is part of the high-performance C++ package Sundials which has a full wrapper Sundials.jl as part of the JuliaDiffEq organization. It has two methods:\n",
    "\n",
    "- Newton Method\n",
    "- Anderson acceleration\n",
    "\n",
    "Let's unpack those."
   ]
  },
  {
   "cell_type": "markdown",
   "metadata": {
    "slideshow": {
     "slide_type": "slide"
    }
   },
   "source": [
    "## Newton's Method\n",
    "\n",
    "$$z_{n+1} = z_n - J^{-1}(z_n)*G(z_n) $$\n",
    "\n",
    "where $J(z_n)$ is the Jacobian of $G(z_n)$. To solve this without needed inverses, you can rewrite this with $dz = z_{n+1} - z_n$ and see that\n",
    "\n",
    "$$G(z_n)dz = G(z_n)$$\n",
    "\n",
    "Thus every step of Newton's method is actually a linear solving problem, where the matrix is the Jacobian of $G$. Since $G$ is from our discretized PDE and all of the nonlinear behavior is local, the Jacobian of $G$ has the same structure and sparsity pattern as the $A$ from before! This means that:\n",
    "\n",
    "#### Newton's method is essentially nonlinear solving via repeat linear solving. Almost all of the time is spent linear solving\n",
    "\n",
    "All of the same tricks from before apply: we want to specialize on banded matrices, we want to use Krylov methods, and preconditioners, etc."
   ]
  },
  {
   "cell_type": "markdown",
   "metadata": {
    "slideshow": {
     "slide_type": "slide"
    }
   },
   "source": [
    "## Anderson Acceleration\n",
    "\n",
    "Anderson acceleration is best understood in its relation to Picard iteration. Let $g(x) = G(x) - x$. Therefore finding $G(x) = 0$ is equivalent to finding $g(x) = x$. If $\\Vert g(x_{n+1}) - g(x_n)\\Vert \\leq L \\Vert x_{n+1} - x_n \\Vert$ for $L <1$, then\n",
    "\n",
    "$$ x_{n+1} = g(x_n) $$\n",
    "\n",
    "is a scheme so that $x_n \\rightarrow x $. This is Picard iteration and can be used to solve rootfinding problems without linear solving. However, it has a stringent requirement on the function ($L<1$) and converges slowly. Anderson acceleration instead keeps history: $x_{n+1}$ is the best linear combination of $\\{g(x_n),x_n,x_{n-1},\\ldots,x_{n-m}\\}$.\n",
    "\n",
    "#### On a linear problem, this use of history is equivalent to GMRES. Anderson acceleration = Nonlinear GMRES\n",
    "\n",
    "It converges faster than Picard and doesn't require Jacobians. Better than Newton? Depends."
   ]
  },
  {
   "cell_type": "markdown",
   "metadata": {
    "slideshow": {
     "slide_type": "slide"
    }
   },
   "source": [
    "## Back to KINSOL\n",
    "\n",
    "KINSOL is a nonlinear solving component in SUNDIALS which has:\n",
    "\n",
    "- Newton method:\n",
    "\n",
    "  * Lets you take control of the linear solving component, \n",
    "  \n",
    "  * Built in banded, sparse factorization, and Krylov methods and allows preconditioners. \n",
    "    \n",
    "  * Makes use of a globalizing technique (a linesearch) \n",
    "    \n",
    "  * Does not update the Jacobian every step when using factorizations in order to be more efficient\n",
    "    \n",
    "  * You can specify Jacobians, or it uses numerical differentiation to build the Jacobian\n",
    "    \n",
    "- Anderson acceleration"
   ]
  },
  {
   "cell_type": "code",
   "execution_count": 17,
   "metadata": {
    "slideshow": {
     "slide_type": "slide"
    }
   },
   "outputs": [
    {
     "data": {
      "text/plain": [
       "2-element Array{Float64,1}:\n",
       "  4.15414e-6\n",
       " -2.39032e-6"
      ]
     },
     "execution_count": 17,
     "metadata": {},
     "output_type": "execute_result"
    }
   ],
   "source": [
    "using Sundials\n",
    "\n",
    "# Write the output to fy\n",
    "function sysfn!(fy, y)\n",
    "    fy[1] = y[1]^2 + y[2]^2 - 1.0\n",
    "    fy[2] = y[2] - y[1]^2\n",
    "end\n",
    "\n",
    "res = Sundials.kinsol(sysfn!, ones(2))\n",
    "test_res = similar(res)\n",
    "sysfn!(test_res,res)\n",
    "test_res"
   ]
  },
  {
   "cell_type": "markdown",
   "metadata": {
    "slideshow": {
     "slide_type": "slide"
    }
   },
   "source": [
    "## NLSolve.jl\n",
    "\n",
    "- Trust-Region Newton methods (i.e. Newton methods with globalizing technique) and globalizing linesearch Newton methods\n",
    "    * Automatically specializes on some matrix types by internally using Julia's `\\`\n",
    "    * Can automatically make use of automatic differentiation to build Jacobians\n",
    "    * Works with Julia number and array types, so it supports high precision and other such features\n",
    "    * Linear solver choice is coming: https://github.com/JuliaNLSolvers/NLsolve.jl/pull/165 . This will allow preconditioning.\n",
    "- Anderson acceleration"
   ]
  },
  {
   "cell_type": "code",
   "execution_count": 18,
   "metadata": {
    "slideshow": {
     "slide_type": "slide"
    }
   },
   "outputs": [
    {
     "data": {
      "text/plain": [
       "Results of Nonlinear Solver Algorithm\n",
       " * Algorithm: Trust-region with dogleg and autoscaling\n",
       " * Starting Point: [0.1, 1.2]\n",
       " * Zero: [-3.7818e-16, 1.0]\n",
       " * Inf-norm of residuals: 0.000000\n",
       " * Iterations: 4\n",
       " * Convergence: true\n",
       "   * |x - x'| < 0.0e+00: false\n",
       "   * |f(x)| < 1.0e-08: true\n",
       " * Function Calls (f): 5\n",
       " * Jacobian Calls (df/dx): 5"
      ]
     },
     "execution_count": 18,
     "metadata": {},
     "output_type": "execute_result"
    }
   ],
   "source": [
    "using NLsolve\n",
    "\n",
    "function f!(F, x)\n",
    "    F[1] = (x[1]+3)*(x[2]^3-7)+18\n",
    "    F[2] = sin(x[2]*exp(x[1])-1)\n",
    "end\n",
    "\n",
    "function j!(J, x)\n",
    "    J[1, 1] = x[2]^3-7\n",
    "    J[1, 2] = 3*x[2]^2*(x[1]+3)\n",
    "    u = exp(x[1])*cos(x[2]*exp(x[1])-1)\n",
    "    J[2, 1] = x[2]*u\n",
    "    J[2, 2] = u\n",
    "end\n",
    "\n",
    "nlsolve(f!, j!, [ 0.1; 1.2])"
   ]
  },
  {
   "cell_type": "markdown",
   "metadata": {
    "slideshow": {
     "slide_type": "slide"
    }
   },
   "source": [
    "## MINPACK.jl\n",
    "\n",
    "Four methods:\n",
    "\n",
    "- Powell's Algorithm: a Jacobian-free linesearching method. Kind of like Anderson acceleration but older.\n",
    "- Levenberg-Marquardt (Globalized Newton)\n",
    "- Advanced Levenberg-Marquardt\n",
    "- Advanced Modified Powell (Mixes Powell with Globalized Newton)\n",
    "\n",
    "So three Newton methods and one simple iteration method. Jacobians can be passed in or they are approximated by finite differences. No control over the linear solvers."
   ]
  },
  {
   "cell_type": "code",
   "execution_count": 21,
   "metadata": {
    "slideshow": {
     "slide_type": "slide"
    }
   },
   "outputs": [
    {
     "data": {
      "text/plain": [
       "Results of Nonlinear Solver Algorithm\n",
       " * Algorithm: Modified Powell (User Jac, Expert)\n",
       " * Starting Point: [1.0, 1.0]\n",
       " * Zero: [6.05177e-12, 1.0]\n",
       " * Inf-norm of residuals: 0.000000\n",
       " * Convergence: true\n",
       " * Message: algorithm estimates that the relative error between x and the solution is at most tol\n",
       " * Total time: 0.015000 seconds\n",
       " * Function Calls: 0\n",
       " * Jacobian Calls (df/dx): 0"
      ]
     },
     "execution_count": 21,
     "metadata": {},
     "output_type": "execute_result"
    }
   ],
   "source": [
    "using MINPACK\n",
    "\n",
    "function f!(fvec, x)\n",
    "  fvec[1] = (x[1]+3)*(x[2]^3-7)+18\n",
    "  fvec[2] = sin(x[2]*exp(x[1])-1)\n",
    "  fvec\n",
    "end\n",
    "\n",
    "function g!(fjac, x)\n",
    "  fjac[1, 1] = x[2]^3 - 7\n",
    "  fjac[1, 2] = 3 * (x[1] + 3) * x[2]*x[2]\n",
    "  fjac[2, 1] = x[2] * exp(x[1]) * cos(x[2] * exp(x[1]) - 1)\n",
    "  fjac[2, 2] = exp(x[1]) * cos(x[2] * exp(x[1]) - 1)\n",
    "  fjac\n",
    "end\n",
    "\n",
    "res_jac = fsolve(f!, g!, ones(2))"
   ]
  },
  {
   "cell_type": "markdown",
   "metadata": {
    "slideshow": {
     "slide_type": "slide"
    }
   },
   "source": [
    "## Part 3.2 Recap \n",
    "\n",
    "To solve nonlinear systems $G(x) = 0$, you either do:\n",
    "\n",
    "- Some simple iteration scheme (Picard iteration, Powell iterations, Anderson acceleration). These have a smaller area of convergence and converge slower, but do not require solving linear systems.\n",
    "- Some form of Newton's method. This requires solving linear systems.\n",
    "\n",
    "Usually a Newton method is required. In this case, **almost all of the cost comes from solving the linear systems**. Right now, KINSOL in Sundials.jl is the best tool because of the flexibility it gives in the linear solver choices, though NLsolve.jl will be adding similar features shortly (PRs are in progress)."
   ]
  },
  {
   "cell_type": "markdown",
   "metadata": {
    "slideshow": {
     "slide_type": "slide"
    }
   },
   "source": [
    "## Part 3.3 ODE Solvers\n",
    "\n",
    "Recall that if you leave a derivative un-discretized you get an ODE system. Example:\n",
    "\n",
    "$$ u_t = u_xx + f(u,t) => u' = Au + f(u,t) $$\n",
    "\n",
    "You could discretize this time derivative the same way as you did space, getting a two-dimensional system and solving a big linear/nonlinear equation. But there can be advantages to leaving it as an ODE:\n",
    "\n",
    "- The full linear/nonlinear system is much larger. If you have $N$ points in space and $M$ time points, then you have $u$ as a size $NM$ vector! This grows fast!\n",
    "    * This can take a prohibative amount of memory\n",
    "    * The cost of the nonlinear solving can grow quadratically or cubically, so it would grow like $\\mathcal{O}((NM)^k)$\n",
    "- Newton's method requires a good starting point. For a huge system in time and space, initial values for $u(x_i,t_j)$ can be hard to come by, and Newton's method can diverge.\n",
    "\n",
    "Keeping one part undiscretized and solving the ODE can alieviate these problems."
   ]
  },
  {
   "cell_type": "markdown",
   "metadata": {
    "slideshow": {
     "slide_type": "slide"
    }
   },
   "source": [
    "## Features of a PDE-derived ODE\n",
    "\n",
    "A PDE-derived ODE tends to have the following features:\n",
    "\n",
    "- Stiffness. This is due to the CFL condition which doesn't requires $\\frac{\\Delta t}{\\Delta x^k} < 1 $ for stability\n",
    "- Large sparse Jacobian. This is because of the matrices from the derivative terms!\n",
    "\n",
    "What ODE methods are applicable to this case?\n",
    "\n",
    "#### DifferentialEquations.jl has a wealth of unique options specifically for reducing the cost of integration on these types of problems"
   ]
  },
  {
   "cell_type": "markdown",
   "metadata": {
    "slideshow": {
     "slide_type": "slide"
    }
   },
   "source": [
    "## Quick Note: Order of Integrator\n",
    "\n",
    "FAQ: I did a second order discretization in space, does it make sense to use a higher than second order integrator in time?\n",
    "\n",
    "Answer: Yes! The order of the integrator isn't just for reducing error. Higher order integrators can be more efficient! You can always incrase the error by taking larger time steps (increasing the tolernace) and thereby use less steps with a more efficient method."
   ]
  },
  {
   "cell_type": "markdown",
   "metadata": {
    "slideshow": {
     "slide_type": "slide"
    }
   },
   "source": [
    "## Implicit and Rosenbrock ODE Integrators\n",
    "\n",
    "These methods step by **repeatedly solving nonlinear systems**. Remember that solving nonlinear systems boils down to repeatedly solving linear systems. Thus for the ODE $u'=f(u,p,t)$ with Jacobian $J$, an implicit ODE solver spends most of its time solving:\n",
    "\n",
    "$$ (I - \\gamma J)x = b $$\n",
    "\n",
    "Since this $J$ has the same characteristics as before, solving this efficiently requires specializing the linear solver to the sparsity pattern (bandedness, etc.) or using a good preconditioner in an iterative solver.\n",
    "\n",
    "Good choices in DifferentialEquations.jl:\n",
    "\n",
    "- `CVODE_BDF`\n",
    "- `KenCarp4`\n",
    "- `Rodas5`"
   ]
  },
  {
   "cell_type": "markdown",
   "metadata": {
    "slideshow": {
     "slide_type": "slide"
    }
   },
   "source": [
    "## Example: Spectral time stepping for Heat Equation in Fourier Space"
   ]
  },
  {
   "cell_type": "code",
   "execution_count": 23,
   "metadata": {
    "slideshow": {
     "slide_type": "slide"
    }
   },
   "outputs": [
    {
     "data": {
      "image/svg+xml": [
       "<?xml version=\"1.0\" encoding=\"utf-8\"?>\n",
       "<svg xmlns=\"http://www.w3.org/2000/svg\" xmlns:xlink=\"http://www.w3.org/1999/xlink\" width=\"600\" height=\"400\" viewBox=\"0 0 600 400\">\n",
       "<defs>\n",
       "  <clipPath id=\"clip6100\">\n",
       "    <rect x=\"0\" y=\"0\" width=\"600\" height=\"400\"/>\n",
       "  </clipPath>\n",
       "</defs>\n",
       "<polygon clip-path=\"url(#clip6100)\" points=\"\n",
       "0,400 600,400 600,0 0,0 \n",
       "  \" fill=\"#ffffff\" fill-opacity=\"1\"/>\n",
       "<defs>\n",
       "  <clipPath id=\"clip6101\">\n",
       "    <rect x=\"120\" y=\"0\" width=\"421\" height=\"400\"/>\n",
       "  </clipPath>\n",
       "</defs>\n",
       "<polygon clip-path=\"url(#clip6100)\" points=\"\n",
       "40.3485,375.869 580.315,375.869 580.315,11.811 40.3485,11.811 \n",
       "  \" fill=\"#ffffff\" fill-opacity=\"1\"/>\n",
       "<defs>\n",
       "  <clipPath id=\"clip6102\">\n",
       "    <rect x=\"40\" y=\"11\" width=\"541\" height=\"365\"/>\n",
       "  </clipPath>\n",
       "</defs>\n",
       "<polyline clip-path=\"url(#clip6102)\" style=\"stroke:#000000; stroke-width:0.5; stroke-opacity:0.1; fill:none\" points=\"\n",
       "  55.6306,375.869 55.6306,11.811 \n",
       "  \"/>\n",
       "<polyline clip-path=\"url(#clip6102)\" style=\"stroke:#000000; stroke-width:0.5; stroke-opacity:0.1; fill:none\" points=\"\n",
       "  137.523,375.869 137.523,11.811 \n",
       "  \"/>\n",
       "<polyline clip-path=\"url(#clip6102)\" style=\"stroke:#000000; stroke-width:0.5; stroke-opacity:0.1; fill:none\" points=\"\n",
       "  219.416,375.869 219.416,11.811 \n",
       "  \"/>\n",
       "<polyline clip-path=\"url(#clip6102)\" style=\"stroke:#000000; stroke-width:0.5; stroke-opacity:0.1; fill:none\" points=\"\n",
       "  301.309,375.869 301.309,11.811 \n",
       "  \"/>\n",
       "<polyline clip-path=\"url(#clip6102)\" style=\"stroke:#000000; stroke-width:0.5; stroke-opacity:0.1; fill:none\" points=\"\n",
       "  383.202,375.869 383.202,11.811 \n",
       "  \"/>\n",
       "<polyline clip-path=\"url(#clip6102)\" style=\"stroke:#000000; stroke-width:0.5; stroke-opacity:0.1; fill:none\" points=\"\n",
       "  465.095,375.869 465.095,11.811 \n",
       "  \"/>\n",
       "<polyline clip-path=\"url(#clip6102)\" style=\"stroke:#000000; stroke-width:0.5; stroke-opacity:0.1; fill:none\" points=\"\n",
       "  546.988,375.869 546.988,11.811 \n",
       "  \"/>\n",
       "<polyline clip-path=\"url(#clip6102)\" style=\"stroke:#000000; stroke-width:0.5; stroke-opacity:0.1; fill:none\" points=\"\n",
       "  40.3485,321.112 580.315,321.112 \n",
       "  \"/>\n",
       "<polyline clip-path=\"url(#clip6102)\" style=\"stroke:#000000; stroke-width:0.5; stroke-opacity:0.1; fill:none\" points=\"\n",
       "  40.3485,246.301 580.315,246.301 \n",
       "  \"/>\n",
       "<polyline clip-path=\"url(#clip6102)\" style=\"stroke:#000000; stroke-width:0.5; stroke-opacity:0.1; fill:none\" points=\"\n",
       "  40.3485,171.49 580.315,171.49 \n",
       "  \"/>\n",
       "<polyline clip-path=\"url(#clip6102)\" style=\"stroke:#000000; stroke-width:0.5; stroke-opacity:0.1; fill:none\" points=\"\n",
       "  40.3485,96.6792 580.315,96.6792 \n",
       "  \"/>\n",
       "<polyline clip-path=\"url(#clip6102)\" style=\"stroke:#000000; stroke-width:0.5; stroke-opacity:0.1; fill:none\" points=\"\n",
       "  40.3485,21.8682 580.315,21.8682 \n",
       "  \"/>\n",
       "<polyline clip-path=\"url(#clip6100)\" style=\"stroke:#000000; stroke-width:1; stroke-opacity:1; fill:none\" points=\"\n",
       "  40.3485,375.869 580.315,375.869 \n",
       "  \"/>\n",
       "<polyline clip-path=\"url(#clip6100)\" style=\"stroke:#000000; stroke-width:1; stroke-opacity:1; fill:none\" points=\"\n",
       "  40.3485,375.869 40.3485,11.811 \n",
       "  \"/>\n",
       "<polyline clip-path=\"url(#clip6100)\" style=\"stroke:#000000; stroke-width:1; stroke-opacity:1; fill:none\" points=\"\n",
       "  55.6306,375.869 55.6306,370.408 \n",
       "  \"/>\n",
       "<polyline clip-path=\"url(#clip6100)\" style=\"stroke:#000000; stroke-width:1; stroke-opacity:1; fill:none\" points=\"\n",
       "  137.523,375.869 137.523,370.408 \n",
       "  \"/>\n",
       "<polyline clip-path=\"url(#clip6100)\" style=\"stroke:#000000; stroke-width:1; stroke-opacity:1; fill:none\" points=\"\n",
       "  219.416,375.869 219.416,370.408 \n",
       "  \"/>\n",
       "<polyline clip-path=\"url(#clip6100)\" style=\"stroke:#000000; stroke-width:1; stroke-opacity:1; fill:none\" points=\"\n",
       "  301.309,375.869 301.309,370.408 \n",
       "  \"/>\n",
       "<polyline clip-path=\"url(#clip6100)\" style=\"stroke:#000000; stroke-width:1; stroke-opacity:1; fill:none\" points=\"\n",
       "  383.202,375.869 383.202,370.408 \n",
       "  \"/>\n",
       "<polyline clip-path=\"url(#clip6100)\" style=\"stroke:#000000; stroke-width:1; stroke-opacity:1; fill:none\" points=\"\n",
       "  465.095,375.869 465.095,370.408 \n",
       "  \"/>\n",
       "<polyline clip-path=\"url(#clip6100)\" style=\"stroke:#000000; stroke-width:1; stroke-opacity:1; fill:none\" points=\"\n",
       "  546.988,375.869 546.988,370.408 \n",
       "  \"/>\n",
       "<polyline clip-path=\"url(#clip6100)\" style=\"stroke:#000000; stroke-width:1; stroke-opacity:1; fill:none\" points=\"\n",
       "  40.3485,321.112 48.448,321.112 \n",
       "  \"/>\n",
       "<polyline clip-path=\"url(#clip6100)\" style=\"stroke:#000000; stroke-width:1; stroke-opacity:1; fill:none\" points=\"\n",
       "  40.3485,246.301 48.448,246.301 \n",
       "  \"/>\n",
       "<polyline clip-path=\"url(#clip6100)\" style=\"stroke:#000000; stroke-width:1; stroke-opacity:1; fill:none\" points=\"\n",
       "  40.3485,171.49 48.448,171.49 \n",
       "  \"/>\n",
       "<polyline clip-path=\"url(#clip6100)\" style=\"stroke:#000000; stroke-width:1; stroke-opacity:1; fill:none\" points=\"\n",
       "  40.3485,96.6792 48.448,96.6792 \n",
       "  \"/>\n",
       "<polyline clip-path=\"url(#clip6100)\" style=\"stroke:#000000; stroke-width:1; stroke-opacity:1; fill:none\" points=\"\n",
       "  40.3485,21.8682 48.448,21.8682 \n",
       "  \"/>\n",
       "<g clip-path=\"url(#clip6100)\">\n",
       "<text style=\"fill:#000000; fill-opacity:1; font-family:Arial,Helvetica Neue,Helvetica,sans-serif; font-size:12; text-anchor:middle;\" transform=\"rotate(0, 55.6306, 389.669)\" x=\"55.6306\" y=\"389.669\">0</text>\n",
       "</g>\n",
       "<g clip-path=\"url(#clip6100)\">\n",
       "<text style=\"fill:#000000; fill-opacity:1; font-family:Arial,Helvetica Neue,Helvetica,sans-serif; font-size:12; text-anchor:middle;\" transform=\"rotate(0, 137.523, 389.669)\" x=\"137.523\" y=\"389.669\">1</text>\n",
       "</g>\n",
       "<g clip-path=\"url(#clip6100)\">\n",
       "<text style=\"fill:#000000; fill-opacity:1; font-family:Arial,Helvetica Neue,Helvetica,sans-serif; font-size:12; text-anchor:middle;\" transform=\"rotate(0, 219.416, 389.669)\" x=\"219.416\" y=\"389.669\">2</text>\n",
       "</g>\n",
       "<g clip-path=\"url(#clip6100)\">\n",
       "<text style=\"fill:#000000; fill-opacity:1; font-family:Arial,Helvetica Neue,Helvetica,sans-serif; font-size:12; text-anchor:middle;\" transform=\"rotate(0, 301.309, 389.669)\" x=\"301.309\" y=\"389.669\">3</text>\n",
       "</g>\n",
       "<g clip-path=\"url(#clip6100)\">\n",
       "<text style=\"fill:#000000; fill-opacity:1; font-family:Arial,Helvetica Neue,Helvetica,sans-serif; font-size:12; text-anchor:middle;\" transform=\"rotate(0, 383.202, 389.669)\" x=\"383.202\" y=\"389.669\">4</text>\n",
       "</g>\n",
       "<g clip-path=\"url(#clip6100)\">\n",
       "<text style=\"fill:#000000; fill-opacity:1; font-family:Arial,Helvetica Neue,Helvetica,sans-serif; font-size:12; text-anchor:middle;\" transform=\"rotate(0, 465.095, 389.669)\" x=\"465.095\" y=\"389.669\">5</text>\n",
       "</g>\n",
       "<g clip-path=\"url(#clip6100)\">\n",
       "<text style=\"fill:#000000; fill-opacity:1; font-family:Arial,Helvetica Neue,Helvetica,sans-serif; font-size:12; text-anchor:middle;\" transform=\"rotate(0, 546.988, 389.669)\" x=\"546.988\" y=\"389.669\">6</text>\n",
       "</g>\n",
       "<g clip-path=\"url(#clip6100)\">\n",
       "<text style=\"fill:#000000; fill-opacity:1; font-family:Arial,Helvetica Neue,Helvetica,sans-serif; font-size:12; text-anchor:end;\" transform=\"rotate(0, 34.3485, 325.612)\" x=\"34.3485\" y=\"325.612\">0.6</text>\n",
       "</g>\n",
       "<g clip-path=\"url(#clip6100)\">\n",
       "<text style=\"fill:#000000; fill-opacity:1; font-family:Arial,Helvetica Neue,Helvetica,sans-serif; font-size:12; text-anchor:end;\" transform=\"rotate(0, 34.3485, 250.801)\" x=\"34.3485\" y=\"250.801\">0.7</text>\n",
       "</g>\n",
       "<g clip-path=\"url(#clip6100)\">\n",
       "<text style=\"fill:#000000; fill-opacity:1; font-family:Arial,Helvetica Neue,Helvetica,sans-serif; font-size:12; text-anchor:end;\" transform=\"rotate(0, 34.3485, 175.99)\" x=\"34.3485\" y=\"175.99\">0.8</text>\n",
       "</g>\n",
       "<g clip-path=\"url(#clip6100)\">\n",
       "<text style=\"fill:#000000; fill-opacity:1; font-family:Arial,Helvetica Neue,Helvetica,sans-serif; font-size:12; text-anchor:end;\" transform=\"rotate(0, 34.3485, 101.179)\" x=\"34.3485\" y=\"101.179\">0.9</text>\n",
       "</g>\n",
       "<g clip-path=\"url(#clip6100)\">\n",
       "<text style=\"fill:#000000; fill-opacity:1; font-family:Arial,Helvetica Neue,Helvetica,sans-serif; font-size:12; text-anchor:end;\" transform=\"rotate(0, 34.3485, 26.3682)\" x=\"34.3485\" y=\"26.3682\">1.0</text>\n",
       "</g>\n",
       "<polyline clip-path=\"url(#clip6102)\" style=\"stroke:#009af9; stroke-width:1; stroke-opacity:1; fill:none\" points=\"\n",
       "  55.6306,362.633 60.7761,365.338 65.9215,365.565 71.067,363.312 76.2125,358.605 81.358,351.498 86.5034,342.076 91.6489,330.453 96.7944,316.772 101.94,301.206 \n",
       "  107.085,283.959 112.231,265.262 117.376,245.377 122.522,224.589 127.667,203.207 132.813,181.562 137.958,159.998 143.104,138.868 148.249,118.53 153.395,99.3364 \n",
       "  158.54,81.6304 163.686,65.7341 168.831,51.9428 173.977,40.5175 179.122,31.6772 184.268,25.5932 189.413,22.3847 194.558,22.1145 199.704,24.7881 204.849,30.3528 \n",
       "  209.995,38.6998 215.14,49.6669 220.286,63.0433 225.431,78.5753 230.577,95.9735 235.722,114.919 240.868,135.074 246.013,156.086 251.159,177.597 256.304,199.254 \n",
       "  261.45,220.709 266.595,241.629 271.741,261.702 276.886,280.637 282.032,298.168 287.177,314.057 292.323,328.098 297.468,340.109 302.614,349.943 307.759,357.481 \n",
       "  312.904,362.633 318.05,365.338 323.195,365.565 328.341,363.312 333.486,358.605 338.632,351.498 343.777,342.076 348.923,330.453 354.068,316.772 359.214,301.206 \n",
       "  364.359,283.959 369.505,265.262 374.65,245.377 379.796,224.589 384.941,203.207 390.087,181.562 395.232,159.998 400.378,138.868 405.523,118.53 410.669,99.3364 \n",
       "  415.814,81.6304 420.96,65.7341 426.105,51.9428 431.25,40.5175 436.396,31.6772 441.541,25.5932 446.687,22.3847 451.832,22.1145 456.978,24.7881 462.123,30.3528 \n",
       "  467.269,38.6998 472.414,49.6669 477.56,63.0433 482.705,78.5753 487.851,95.9735 492.996,114.919 498.142,135.074 503.287,156.086 508.433,177.597 513.578,199.254 \n",
       "  518.724,220.709 523.869,241.629 529.015,261.702 534.16,280.637 539.306,298.168 544.451,314.057 549.596,328.098 554.742,340.109 559.887,349.943 565.033,357.481 \n",
       "  \n",
       "  \"/>\n",
       "<polyline clip-path=\"url(#clip6102)\" style=\"stroke:#e26f46; stroke-width:1; stroke-opacity:1; fill:none\" points=\"\n",
       "  55.6306,220.328 60.7761,220.727 65.9215,220.761 71.067,220.428 76.2125,219.734 81.358,218.69 86.5034,217.312 91.6489,215.623 96.7944,213.647 101.94,211.418 \n",
       "  107.085,208.969 112.231,206.34 117.376,203.572 122.522,200.709 127.667,197.795 132.813,194.877 137.958,192.001 143.104,189.211 148.249,186.553 153.395,184.068 \n",
       "  158.54,181.795 163.686,179.77 168.831,178.025 173.977,176.588 179.122,175.481 184.268,174.722 189.413,174.322 194.558,174.289 199.704,174.622 204.849,175.316 \n",
       "  209.995,176.36 215.14,177.739 220.286,179.429 225.431,181.405 230.577,183.635 235.722,186.084 240.868,188.714 246.013,191.482 251.159,194.346 256.304,197.26 \n",
       "  261.45,200.178 266.595,203.054 271.741,205.843 276.886,208.5 282.032,210.985 287.177,213.257 292.323,215.281 297.468,217.026 302.614,218.462 307.759,219.569 \n",
       "  312.904,220.328 318.05,220.727 323.195,220.761 328.341,220.428 333.486,219.734 338.632,218.69 343.777,217.312 348.923,215.623 354.068,213.647 359.214,211.418 \n",
       "  364.359,208.969 369.505,206.34 374.65,203.572 379.796,200.709 384.941,197.795 390.087,194.877 395.232,192.001 400.378,189.211 405.523,186.553 410.669,184.068 \n",
       "  415.814,181.795 420.96,179.77 426.105,178.025 431.25,176.588 436.396,175.481 441.541,174.722 446.687,174.322 451.832,174.289 456.978,174.622 462.123,175.316 \n",
       "  467.269,176.36 472.414,177.739 477.56,179.429 482.705,181.405 487.851,183.635 492.996,186.084 498.142,188.714 503.287,191.482 508.433,194.346 513.578,197.26 \n",
       "  518.724,200.178 523.869,203.054 529.015,205.843 534.16,208.5 539.306,210.985 544.451,213.257 549.596,215.281 554.742,217.026 559.887,218.462 565.033,219.569 \n",
       "  \n",
       "  \"/>\n",
       "<polyline clip-path=\"url(#clip6102)\" style=\"stroke:#3da44d; stroke-width:1; stroke-opacity:1; fill:none\" points=\"\n",
       "  55.6306,197.583 60.7761,197.584 65.9215,197.584 71.067,197.583 76.2125,197.581 81.358,197.579 86.5034,197.575 91.6489,197.571 96.7944,197.566 101.94,197.561 \n",
       "  107.085,197.554 112.231,197.548 117.376,197.541 122.522,197.534 127.667,197.527 132.813,197.52 137.958,197.512 143.104,197.505 148.249,197.499 153.395,197.493 \n",
       "  158.54,197.487 163.686,197.482 168.831,197.478 173.977,197.474 179.122,197.471 184.268,197.47 189.413,197.469 194.558,197.468 199.704,197.469 204.849,197.471 \n",
       "  209.995,197.474 215.14,197.477 220.286,197.481 225.431,197.486 230.577,197.492 235.722,197.498 240.868,197.504 246.013,197.511 251.159,197.518 256.304,197.525 \n",
       "  261.45,197.533 266.595,197.54 271.741,197.547 276.886,197.553 282.032,197.559 287.177,197.565 292.323,197.57 297.468,197.574 302.614,197.578 307.759,197.581 \n",
       "  312.904,197.583 318.05,197.584 323.195,197.584 328.341,197.583 333.486,197.581 338.632,197.579 343.777,197.575 348.923,197.571 354.068,197.566 359.214,197.561 \n",
       "  364.359,197.554 369.505,197.548 374.65,197.541 379.796,197.534 384.941,197.527 390.087,197.52 395.232,197.512 400.378,197.505 405.523,197.499 410.669,197.493 \n",
       "  415.814,197.487 420.96,197.482 426.105,197.478 431.25,197.474 436.396,197.471 441.541,197.47 446.687,197.469 451.832,197.468 456.978,197.469 462.123,197.471 \n",
       "  467.269,197.474 472.414,197.477 477.56,197.481 482.705,197.486 487.851,197.492 492.996,197.498 498.142,197.504 503.287,197.511 508.433,197.518 513.578,197.525 \n",
       "  518.724,197.533 523.869,197.54 529.015,197.547 534.16,197.553 539.306,197.559 544.451,197.565 549.596,197.57 554.742,197.574 559.887,197.578 565.033,197.581 \n",
       "  \n",
       "  \"/>\n",
       "<polyline clip-path=\"url(#clip6102)\" style=\"stroke:#c271d2; stroke-width:1; stroke-opacity:1; fill:none\" points=\"\n",
       "  55.6306,197.526 60.7761,197.526 65.9215,197.526 71.067,197.526 76.2125,197.526 81.358,197.526 86.5034,197.526 91.6489,197.526 96.7944,197.526 101.94,197.526 \n",
       "  107.085,197.526 112.231,197.526 117.376,197.526 122.522,197.526 127.667,197.526 132.813,197.526 137.958,197.526 143.104,197.526 148.249,197.526 153.395,197.526 \n",
       "  158.54,197.526 163.686,197.526 168.831,197.526 173.977,197.526 179.122,197.526 184.268,197.526 189.413,197.526 194.558,197.526 199.704,197.526 204.849,197.526 \n",
       "  209.995,197.526 215.14,197.526 220.286,197.526 225.431,197.526 230.577,197.526 235.722,197.526 240.868,197.526 246.013,197.526 251.159,197.526 256.304,197.526 \n",
       "  261.45,197.526 266.595,197.526 271.741,197.526 276.886,197.526 282.032,197.526 287.177,197.526 292.323,197.526 297.468,197.526 302.614,197.526 307.759,197.526 \n",
       "  312.904,197.526 318.05,197.526 323.195,197.526 328.341,197.526 333.486,197.526 338.632,197.526 343.777,197.526 348.923,197.526 354.068,197.526 359.214,197.526 \n",
       "  364.359,197.526 369.505,197.526 374.65,197.526 379.796,197.526 384.941,197.526 390.087,197.526 395.232,197.526 400.378,197.526 405.523,197.526 410.669,197.526 \n",
       "  415.814,197.526 420.96,197.526 426.105,197.526 431.25,197.526 436.396,197.526 441.541,197.526 446.687,197.526 451.832,197.526 456.978,197.526 462.123,197.526 \n",
       "  467.269,197.526 472.414,197.526 477.56,197.526 482.705,197.526 487.851,197.526 492.996,197.526 498.142,197.526 503.287,197.526 508.433,197.526 513.578,197.526 \n",
       "  518.724,197.526 523.869,197.526 529.015,197.526 534.16,197.526 539.306,197.526 544.451,197.526 549.596,197.526 554.742,197.526 559.887,197.526 565.033,197.526 \n",
       "  \n",
       "  \"/>\n",
       "<polygon clip-path=\"url(#clip6100)\" points=\"\n",
       "489.608,108.291 562.315,108.291 562.315,32.691 489.608,32.691 \n",
       "  \" fill=\"#ffffff\" fill-opacity=\"1\"/>\n",
       "<polyline clip-path=\"url(#clip6100)\" style=\"stroke:#000000; stroke-width:1; stroke-opacity:1; fill:none\" points=\"\n",
       "  489.608,108.291 562.315,108.291 562.315,32.691 489.608,32.691 489.608,108.291 \n",
       "  \"/>\n",
       "<polyline clip-path=\"url(#clip6100)\" style=\"stroke:#009af9; stroke-width:1; stroke-opacity:1; fill:none\" points=\"\n",
       "  495.608,47.811 531.608,47.811 \n",
       "  \"/>\n",
       "<g clip-path=\"url(#clip6100)\">\n",
       "<text style=\"fill:#000000; fill-opacity:1; font-family:Arial,Helvetica Neue,Helvetica,sans-serif; font-size:12; text-anchor:start;\" transform=\"rotate(0, 537.608, 52.311)\" x=\"537.608\" y=\"52.311\">y1</text>\n",
       "</g>\n",
       "<polyline clip-path=\"url(#clip6100)\" style=\"stroke:#e26f46; stroke-width:1; stroke-opacity:1; fill:none\" points=\"\n",
       "  495.608,62.931 531.608,62.931 \n",
       "  \"/>\n",
       "<g clip-path=\"url(#clip6100)\">\n",
       "<text style=\"fill:#000000; fill-opacity:1; font-family:Arial,Helvetica Neue,Helvetica,sans-serif; font-size:12; text-anchor:start;\" transform=\"rotate(0, 537.608, 67.431)\" x=\"537.608\" y=\"67.431\">y2</text>\n",
       "</g>\n",
       "<polyline clip-path=\"url(#clip6100)\" style=\"stroke:#3da44d; stroke-width:1; stroke-opacity:1; fill:none\" points=\"\n",
       "  495.608,78.051 531.608,78.051 \n",
       "  \"/>\n",
       "<g clip-path=\"url(#clip6100)\">\n",
       "<text style=\"fill:#000000; fill-opacity:1; font-family:Arial,Helvetica Neue,Helvetica,sans-serif; font-size:12; text-anchor:start;\" transform=\"rotate(0, 537.608, 82.551)\" x=\"537.608\" y=\"82.551\">y3</text>\n",
       "</g>\n",
       "<polyline clip-path=\"url(#clip6100)\" style=\"stroke:#c271d2; stroke-width:1; stroke-opacity:1; fill:none\" points=\"\n",
       "  495.608,93.171 531.608,93.171 \n",
       "  \"/>\n",
       "<g clip-path=\"url(#clip6100)\">\n",
       "<text style=\"fill:#000000; fill-opacity:1; font-family:Arial,Helvetica Neue,Helvetica,sans-serif; font-size:12; text-anchor:start;\" transform=\"rotate(0, 537.608, 97.671)\" x=\"537.608\" y=\"97.671\">y4</text>\n",
       "</g>\n",
       "</svg>\n"
      ]
     },
     "execution_count": 23,
     "metadata": {},
     "output_type": "execute_result"
    }
   ],
   "source": [
    "using ApproxFun, Sundials\n",
    "using Plots; gr()\n",
    "\n",
    "S = Fourier()\n",
    "n = 100\n",
    "T = ApproxFun.plan_transform(S, n)\n",
    "Ti = ApproxFun.plan_itransform(S, n)\n",
    "x = points(S, n)\n",
    "\n",
    "\n",
    "u₀ = T*cos.(cos.(x-0.1)) # Convert the initial condition to Fourier space\n",
    "D2 = Derivative(S,2)\n",
    "L = D2[1:n,1:n]\n",
    "\n",
    "# Simple Heat\n",
    "\n",
    "function heat(du,u,L,t)\n",
    "    A_mul_B!(du, L, u) # The equation is trivial in Fourier space\n",
    "end\n",
    "prob = ODEProblem(heat, u₀, (0.0,10.0),L)\n",
    "# Specialize the linear solver on the diagonalness of the Jacobian\n",
    "u = solve(prob, CVODE_BDF(linear_solver=:Diagonal); reltol=1e-8,abstol=1e-8)\n",
    "plot(x,Ti*u(0.0)) # The solution is in Fourier space, so use inverse to transform back\n",
    "plot!(x,Ti*u(0.5))\n",
    "plot!(x,Ti*u(2.0))\n",
    "plot!(x,Ti*u(10.0))"
   ]
  },
  {
   "cell_type": "markdown",
   "metadata": {
    "slideshow": {
     "slide_type": "slide"
    }
   },
   "source": [
    "## Pseudospectral Solving the Reaction-Diffusion Equation\n",
    "\n",
    "Take the PDE\n",
    "\n",
    "$$ u_t = u_{xx} + f(u,t)$$\n",
    "\n",
    "For some nonlinear $u$. In the Fourier basis, $u_{xx} = Au$ for a diagonal matrix $u$, so this is a nice way to solve the Heat Equation as above (by solving in Fourier space, and converting the solution back). We can solve a nonlinear equation by, whenever we need to apply the nonlinear $f$, transform $u$ back to the origional coordinates and applying $f$ on $u$ before transforming back. This pseudospectral discretization is seen as:\n",
    "\n",
    "$$ \\mathcal{F}u' = A\\mathcal{F}u + \\mathcal{F}(f(\\mathcal{F}^{-1}u,t)) $$\n",
    "\n",
    "gives an ODE for how $\\mathcal{F}u$ evolves, and from that we can recover the true solution via the inverse Fourier transform $\\mathcal{F}^{-1}(\\mathcal{F}u)$"
   ]
  },
  {
   "cell_type": "markdown",
   "metadata": {
    "slideshow": {
     "slide_type": "slide"
    }
   },
   "source": [
    "## Implicit-Explicit (IMEX) Integrators\n",
    "\n",
    "But wait, we shouldn't solve this as one whole ODE. If we split the ODE into two parts:\n",
    "\n",
    "$$ u' = f(u,p,t) = f_1(u,p,t) + f_2(u,p,t) $$\n",
    "\n",
    "then we notice that the first part is the linear part and has the stiff term, while the second part is nonlinear and (can be) non-stiff. **If we only are implicit on the first part, we can use a linear solver instead of a nonlinear solver to significantly reduce the amount of work!** Integrators which allow you to split and do two separate methods at the same time are called IMEX integrators.\n",
    "\n",
    "In DifferentialEquations.jl, IMEX integrators to be aware of are:\n",
    "\n",
    "- `CNAB2`\n",
    "- `SBDF2`\n",
    "- `KenCarp3`\n",
    "- `KenCarp4`"
   ]
  },
  {
   "cell_type": "code",
   "execution_count": 27,
   "metadata": {
    "slideshow": {
     "slide_type": "slide"
    }
   },
   "outputs": [
    {
     "data": {
      "image/svg+xml": [
       "<?xml version=\"1.0\" encoding=\"utf-8\"?>\n",
       "<svg xmlns=\"http://www.w3.org/2000/svg\" xmlns:xlink=\"http://www.w3.org/1999/xlink\" width=\"600\" height=\"400\" viewBox=\"0 0 600 400\">\n",
       "<defs>\n",
       "  <clipPath id=\"clip6700\">\n",
       "    <rect x=\"0\" y=\"0\" width=\"600\" height=\"400\"/>\n",
       "  </clipPath>\n",
       "</defs>\n",
       "<polygon clip-path=\"url(#clip6700)\" points=\"\n",
       "0,400 600,400 600,0 0,0 \n",
       "  \" fill=\"#ffffff\" fill-opacity=\"1\"/>\n",
       "<defs>\n",
       "  <clipPath id=\"clip6701\">\n",
       "    <rect x=\"120\" y=\"0\" width=\"421\" height=\"400\"/>\n",
       "  </clipPath>\n",
       "</defs>\n",
       "<polygon clip-path=\"url(#clip6700)\" points=\"\n",
       "40.3485,375.869 580.315,375.869 580.315,11.811 40.3485,11.811 \n",
       "  \" fill=\"#ffffff\" fill-opacity=\"1\"/>\n",
       "<defs>\n",
       "  <clipPath id=\"clip6702\">\n",
       "    <rect x=\"40\" y=\"11\" width=\"541\" height=\"365\"/>\n",
       "  </clipPath>\n",
       "</defs>\n",
       "<polyline clip-path=\"url(#clip6702)\" style=\"stroke:#000000; stroke-width:0.5; stroke-opacity:0.1; fill:none\" points=\"\n",
       "  55.6306,375.869 55.6306,11.811 \n",
       "  \"/>\n",
       "<polyline clip-path=\"url(#clip6702)\" style=\"stroke:#000000; stroke-width:0.5; stroke-opacity:0.1; fill:none\" points=\"\n",
       "  137.523,375.869 137.523,11.811 \n",
       "  \"/>\n",
       "<polyline clip-path=\"url(#clip6702)\" style=\"stroke:#000000; stroke-width:0.5; stroke-opacity:0.1; fill:none\" points=\"\n",
       "  219.416,375.869 219.416,11.811 \n",
       "  \"/>\n",
       "<polyline clip-path=\"url(#clip6702)\" style=\"stroke:#000000; stroke-width:0.5; stroke-opacity:0.1; fill:none\" points=\"\n",
       "  301.309,375.869 301.309,11.811 \n",
       "  \"/>\n",
       "<polyline clip-path=\"url(#clip6702)\" style=\"stroke:#000000; stroke-width:0.5; stroke-opacity:0.1; fill:none\" points=\"\n",
       "  383.202,375.869 383.202,11.811 \n",
       "  \"/>\n",
       "<polyline clip-path=\"url(#clip6702)\" style=\"stroke:#000000; stroke-width:0.5; stroke-opacity:0.1; fill:none\" points=\"\n",
       "  465.095,375.869 465.095,11.811 \n",
       "  \"/>\n",
       "<polyline clip-path=\"url(#clip6702)\" style=\"stroke:#000000; stroke-width:0.5; stroke-opacity:0.1; fill:none\" points=\"\n",
       "  546.988,375.869 546.988,11.811 \n",
       "  \"/>\n",
       "<polyline clip-path=\"url(#clip6702)\" style=\"stroke:#000000; stroke-width:0.5; stroke-opacity:0.1; fill:none\" points=\"\n",
       "  40.3485,321.112 580.315,321.112 \n",
       "  \"/>\n",
       "<polyline clip-path=\"url(#clip6702)\" style=\"stroke:#000000; stroke-width:0.5; stroke-opacity:0.1; fill:none\" points=\"\n",
       "  40.3485,246.301 580.315,246.301 \n",
       "  \"/>\n",
       "<polyline clip-path=\"url(#clip6702)\" style=\"stroke:#000000; stroke-width:0.5; stroke-opacity:0.1; fill:none\" points=\"\n",
       "  40.3485,171.49 580.315,171.49 \n",
       "  \"/>\n",
       "<polyline clip-path=\"url(#clip6702)\" style=\"stroke:#000000; stroke-width:0.5; stroke-opacity:0.1; fill:none\" points=\"\n",
       "  40.3485,96.6792 580.315,96.6792 \n",
       "  \"/>\n",
       "<polyline clip-path=\"url(#clip6702)\" style=\"stroke:#000000; stroke-width:0.5; stroke-opacity:0.1; fill:none\" points=\"\n",
       "  40.3485,21.8682 580.315,21.8682 \n",
       "  \"/>\n",
       "<polyline clip-path=\"url(#clip6700)\" style=\"stroke:#000000; stroke-width:1; stroke-opacity:1; fill:none\" points=\"\n",
       "  40.3485,375.869 580.315,375.869 \n",
       "  \"/>\n",
       "<polyline clip-path=\"url(#clip6700)\" style=\"stroke:#000000; stroke-width:1; stroke-opacity:1; fill:none\" points=\"\n",
       "  40.3485,375.869 40.3485,11.811 \n",
       "  \"/>\n",
       "<polyline clip-path=\"url(#clip6700)\" style=\"stroke:#000000; stroke-width:1; stroke-opacity:1; fill:none\" points=\"\n",
       "  55.6306,375.869 55.6306,370.408 \n",
       "  \"/>\n",
       "<polyline clip-path=\"url(#clip6700)\" style=\"stroke:#000000; stroke-width:1; stroke-opacity:1; fill:none\" points=\"\n",
       "  137.523,375.869 137.523,370.408 \n",
       "  \"/>\n",
       "<polyline clip-path=\"url(#clip6700)\" style=\"stroke:#000000; stroke-width:1; stroke-opacity:1; fill:none\" points=\"\n",
       "  219.416,375.869 219.416,370.408 \n",
       "  \"/>\n",
       "<polyline clip-path=\"url(#clip6700)\" style=\"stroke:#000000; stroke-width:1; stroke-opacity:1; fill:none\" points=\"\n",
       "  301.309,375.869 301.309,370.408 \n",
       "  \"/>\n",
       "<polyline clip-path=\"url(#clip6700)\" style=\"stroke:#000000; stroke-width:1; stroke-opacity:1; fill:none\" points=\"\n",
       "  383.202,375.869 383.202,370.408 \n",
       "  \"/>\n",
       "<polyline clip-path=\"url(#clip6700)\" style=\"stroke:#000000; stroke-width:1; stroke-opacity:1; fill:none\" points=\"\n",
       "  465.095,375.869 465.095,370.408 \n",
       "  \"/>\n",
       "<polyline clip-path=\"url(#clip6700)\" style=\"stroke:#000000; stroke-width:1; stroke-opacity:1; fill:none\" points=\"\n",
       "  546.988,375.869 546.988,370.408 \n",
       "  \"/>\n",
       "<polyline clip-path=\"url(#clip6700)\" style=\"stroke:#000000; stroke-width:1; stroke-opacity:1; fill:none\" points=\"\n",
       "  40.3485,321.112 48.448,321.112 \n",
       "  \"/>\n",
       "<polyline clip-path=\"url(#clip6700)\" style=\"stroke:#000000; stroke-width:1; stroke-opacity:1; fill:none\" points=\"\n",
       "  40.3485,246.301 48.448,246.301 \n",
       "  \"/>\n",
       "<polyline clip-path=\"url(#clip6700)\" style=\"stroke:#000000; stroke-width:1; stroke-opacity:1; fill:none\" points=\"\n",
       "  40.3485,171.49 48.448,171.49 \n",
       "  \"/>\n",
       "<polyline clip-path=\"url(#clip6700)\" style=\"stroke:#000000; stroke-width:1; stroke-opacity:1; fill:none\" points=\"\n",
       "  40.3485,96.6792 48.448,96.6792 \n",
       "  \"/>\n",
       "<polyline clip-path=\"url(#clip6700)\" style=\"stroke:#000000; stroke-width:1; stroke-opacity:1; fill:none\" points=\"\n",
       "  40.3485,21.8682 48.448,21.8682 \n",
       "  \"/>\n",
       "<g clip-path=\"url(#clip6700)\">\n",
       "<text style=\"fill:#000000; fill-opacity:1; font-family:Arial,Helvetica Neue,Helvetica,sans-serif; font-size:12; text-anchor:middle;\" transform=\"rotate(0, 55.6306, 389.669)\" x=\"55.6306\" y=\"389.669\">0</text>\n",
       "</g>\n",
       "<g clip-path=\"url(#clip6700)\">\n",
       "<text style=\"fill:#000000; fill-opacity:1; font-family:Arial,Helvetica Neue,Helvetica,sans-serif; font-size:12; text-anchor:middle;\" transform=\"rotate(0, 137.523, 389.669)\" x=\"137.523\" y=\"389.669\">1</text>\n",
       "</g>\n",
       "<g clip-path=\"url(#clip6700)\">\n",
       "<text style=\"fill:#000000; fill-opacity:1; font-family:Arial,Helvetica Neue,Helvetica,sans-serif; font-size:12; text-anchor:middle;\" transform=\"rotate(0, 219.416, 389.669)\" x=\"219.416\" y=\"389.669\">2</text>\n",
       "</g>\n",
       "<g clip-path=\"url(#clip6700)\">\n",
       "<text style=\"fill:#000000; fill-opacity:1; font-family:Arial,Helvetica Neue,Helvetica,sans-serif; font-size:12; text-anchor:middle;\" transform=\"rotate(0, 301.309, 389.669)\" x=\"301.309\" y=\"389.669\">3</text>\n",
       "</g>\n",
       "<g clip-path=\"url(#clip6700)\">\n",
       "<text style=\"fill:#000000; fill-opacity:1; font-family:Arial,Helvetica Neue,Helvetica,sans-serif; font-size:12; text-anchor:middle;\" transform=\"rotate(0, 383.202, 389.669)\" x=\"383.202\" y=\"389.669\">4</text>\n",
       "</g>\n",
       "<g clip-path=\"url(#clip6700)\">\n",
       "<text style=\"fill:#000000; fill-opacity:1; font-family:Arial,Helvetica Neue,Helvetica,sans-serif; font-size:12; text-anchor:middle;\" transform=\"rotate(0, 465.095, 389.669)\" x=\"465.095\" y=\"389.669\">5</text>\n",
       "</g>\n",
       "<g clip-path=\"url(#clip6700)\">\n",
       "<text style=\"fill:#000000; fill-opacity:1; font-family:Arial,Helvetica Neue,Helvetica,sans-serif; font-size:12; text-anchor:middle;\" transform=\"rotate(0, 546.988, 389.669)\" x=\"546.988\" y=\"389.669\">6</text>\n",
       "</g>\n",
       "<g clip-path=\"url(#clip6700)\">\n",
       "<text style=\"fill:#000000; fill-opacity:1; font-family:Arial,Helvetica Neue,Helvetica,sans-serif; font-size:12; text-anchor:end;\" transform=\"rotate(0, 34.3485, 325.612)\" x=\"34.3485\" y=\"325.612\">0.6</text>\n",
       "</g>\n",
       "<g clip-path=\"url(#clip6700)\">\n",
       "<text style=\"fill:#000000; fill-opacity:1; font-family:Arial,Helvetica Neue,Helvetica,sans-serif; font-size:12; text-anchor:end;\" transform=\"rotate(0, 34.3485, 250.801)\" x=\"34.3485\" y=\"250.801\">0.7</text>\n",
       "</g>\n",
       "<g clip-path=\"url(#clip6700)\">\n",
       "<text style=\"fill:#000000; fill-opacity:1; font-family:Arial,Helvetica Neue,Helvetica,sans-serif; font-size:12; text-anchor:end;\" transform=\"rotate(0, 34.3485, 175.99)\" x=\"34.3485\" y=\"175.99\">0.8</text>\n",
       "</g>\n",
       "<g clip-path=\"url(#clip6700)\">\n",
       "<text style=\"fill:#000000; fill-opacity:1; font-family:Arial,Helvetica Neue,Helvetica,sans-serif; font-size:12; text-anchor:end;\" transform=\"rotate(0, 34.3485, 101.179)\" x=\"34.3485\" y=\"101.179\">0.9</text>\n",
       "</g>\n",
       "<g clip-path=\"url(#clip6700)\">\n",
       "<text style=\"fill:#000000; fill-opacity:1; font-family:Arial,Helvetica Neue,Helvetica,sans-serif; font-size:12; text-anchor:end;\" transform=\"rotate(0, 34.3485, 26.3682)\" x=\"34.3485\" y=\"26.3682\">1.0</text>\n",
       "</g>\n",
       "<polyline clip-path=\"url(#clip6702)\" style=\"stroke:#009af9; stroke-width:1; stroke-opacity:1; fill:none\" points=\"\n",
       "  55.6306,362.633 60.7761,365.338 65.9215,365.565 71.067,363.312 76.2125,358.605 81.358,351.498 86.5034,342.076 91.6489,330.453 96.7944,316.772 101.94,301.206 \n",
       "  107.085,283.959 112.231,265.262 117.376,245.377 122.522,224.589 127.667,203.207 132.813,181.562 137.958,159.998 143.104,138.868 148.249,118.53 153.395,99.3364 \n",
       "  158.54,81.6304 163.686,65.7341 168.831,51.9428 173.977,40.5175 179.122,31.6772 184.268,25.5932 189.413,22.3847 194.558,22.1145 199.704,24.7881 204.849,30.3528 \n",
       "  209.995,38.6998 215.14,49.6669 220.286,63.0433 225.431,78.5753 230.577,95.9735 235.722,114.919 240.868,135.074 246.013,156.086 251.159,177.597 256.304,199.254 \n",
       "  261.45,220.709 266.595,241.629 271.741,261.702 276.886,280.637 282.032,298.168 287.177,314.057 292.323,328.098 297.468,340.109 302.614,349.943 307.759,357.481 \n",
       "  312.904,362.633 318.05,365.338 323.195,365.565 328.341,363.312 333.486,358.605 338.632,351.498 343.777,342.076 348.923,330.453 354.068,316.772 359.214,301.206 \n",
       "  364.359,283.959 369.505,265.262 374.65,245.377 379.796,224.589 384.941,203.207 390.087,181.562 395.232,159.998 400.378,138.868 405.523,118.53 410.669,99.3364 \n",
       "  415.814,81.6304 420.96,65.7341 426.105,51.9428 431.25,40.5175 436.396,31.6772 441.541,25.5932 446.687,22.3847 451.832,22.1145 456.978,24.7881 462.123,30.3528 \n",
       "  467.269,38.6998 472.414,49.6669 477.56,63.0433 482.705,78.5753 487.851,95.9735 492.996,114.919 498.142,135.074 503.287,156.086 508.433,177.597 513.578,199.254 \n",
       "  518.724,220.709 523.869,241.629 529.015,261.702 534.16,280.637 539.306,298.168 544.451,314.057 549.596,328.098 554.742,340.109 559.887,349.943 565.033,357.481 \n",
       "  \n",
       "  \"/>\n",
       "<polyline clip-path=\"url(#clip6702)\" style=\"stroke:#e26f46; stroke-width:1; stroke-opacity:1; fill:none\" points=\"\n",
       "  55.6306,250.521 60.7761,250.823 65.9215,250.848 71.067,250.597 76.2125,250.073 81.358,249.285 86.5034,248.245 91.6489,246.97 96.7944,245.479 101.94,243.797 \n",
       "  107.085,241.95 112.231,239.966 117.376,237.878 122.522,235.719 127.667,233.521 132.813,231.321 137.958,229.152 143.104,227.05 148.249,225.046 153.395,223.173 \n",
       "  158.54,221.46 163.686,219.934 168.831,218.619 173.977,217.537 179.122,216.702 184.268,216.13 189.413,215.829 194.558,215.804 199.704,216.055 204.849,216.578 \n",
       "  209.995,217.365 215.14,218.403 220.286,219.677 225.431,221.166 230.577,222.847 235.722,224.692 240.868,226.674 246.013,228.762 251.159,230.921 256.304,233.118 \n",
       "  261.45,235.318 266.595,237.487 271.741,239.591 276.886,241.596 282.032,243.47 287.177,245.185 292.323,246.712 297.468,248.029 302.614,249.113 307.759,249.948 \n",
       "  312.904,250.521 318.05,250.823 323.195,250.848 328.341,250.597 333.486,250.073 338.632,249.285 343.777,248.245 348.923,246.97 354.068,245.479 359.214,243.797 \n",
       "  364.359,241.95 369.505,239.966 374.65,237.878 379.796,235.719 384.941,233.521 390.087,231.321 395.232,229.152 400.378,227.05 405.523,225.046 410.669,223.173 \n",
       "  415.814,221.46 420.96,219.934 426.105,218.619 431.25,217.537 436.396,216.702 441.541,216.13 446.687,215.829 451.832,215.804 456.978,216.055 462.123,216.578 \n",
       "  467.269,217.365 472.414,218.403 477.56,219.677 482.705,221.166 487.851,222.847 492.996,224.692 498.142,226.674 503.287,228.762 508.433,230.921 513.578,233.118 \n",
       "  518.724,235.318 523.869,237.487 529.015,239.591 534.16,241.596 539.306,243.47 544.451,245.185 549.596,246.712 554.742,248.029 559.887,249.113 565.033,249.948 \n",
       "  \n",
       "  \"/>\n",
       "<polyline clip-path=\"url(#clip6702)\" style=\"stroke:#3da44d; stroke-width:1; stroke-opacity:1; fill:none\" points=\"\n",
       "  55.6306,261.931 60.7761,261.962 65.9215,261.965 71.067,261.939 76.2125,261.885 81.358,261.804 86.5034,261.697 91.6489,261.566 96.7944,261.413 101.94,261.24 \n",
       "  107.085,261.05 112.231,260.846 117.376,260.631 122.522,260.409 127.667,260.182 132.813,259.956 137.958,259.733 143.104,259.516 148.249,259.31 153.395,259.117 \n",
       "  158.54,258.941 163.686,258.784 168.831,258.649 173.977,258.537 179.122,258.451 184.268,258.392 189.413,258.361 194.558,258.359 199.704,258.385 204.849,258.438 \n",
       "  209.995,258.52 215.14,258.626 220.286,258.758 225.431,258.911 230.577,259.084 235.722,259.274 240.868,259.478 246.013,259.693 251.159,259.915 256.304,260.141 \n",
       "  261.45,260.367 266.595,260.591 271.741,260.807 276.886,261.013 282.032,261.206 287.177,261.382 292.323,261.539 297.468,261.675 302.614,261.786 307.759,261.872 \n",
       "  312.904,261.931 318.05,261.962 323.195,261.965 328.341,261.939 333.486,261.885 338.632,261.804 343.777,261.697 348.923,261.566 354.068,261.413 359.214,261.24 \n",
       "  364.359,261.05 369.505,260.846 374.65,260.631 379.796,260.409 384.941,260.182 390.087,259.956 395.232,259.733 400.378,259.516 405.523,259.31 410.669,259.117 \n",
       "  415.814,258.941 420.96,258.784 426.105,258.649 431.25,258.537 436.396,258.451 441.541,258.392 446.687,258.361 451.832,258.359 456.978,258.385 462.123,258.438 \n",
       "  467.269,258.52 472.414,258.626 477.56,258.758 482.705,258.911 487.851,259.084 492.996,259.274 498.142,259.478 503.287,259.693 508.433,259.915 513.578,260.141 \n",
       "  518.724,260.367 523.869,260.591 529.015,260.807 534.16,261.013 539.306,261.206 544.451,261.382 549.596,261.539 554.742,261.675 559.887,261.786 565.033,261.872 \n",
       "  \n",
       "  \"/>\n",
       "<polyline clip-path=\"url(#clip6702)\" style=\"stroke:#c271d2; stroke-width:1; stroke-opacity:1; fill:none\" points=\"\n",
       "  55.6306,296.22 60.7761,296.22 65.9215,296.22 71.067,296.22 76.2125,296.219 81.358,296.218 86.5034,296.217 91.6489,296.216 96.7944,296.214 101.94,296.212 \n",
       "  107.085,296.21 112.231,296.208 117.376,296.205 122.522,296.203 127.667,296.201 132.813,296.198 137.958,296.196 143.104,296.193 148.249,296.191 153.395,296.189 \n",
       "  158.54,296.187 163.686,296.185 168.831,296.184 173.977,296.183 179.122,296.182 184.268,296.181 189.413,296.181 194.558,296.181 199.704,296.181 204.849,296.182 \n",
       "  209.995,296.182 215.14,296.184 220.286,296.185 225.431,296.187 230.577,296.189 235.722,296.191 240.868,296.193 246.013,296.195 251.159,296.198 256.304,296.2 \n",
       "  261.45,296.203 266.595,296.205 271.741,296.207 276.886,296.21 282.032,296.212 287.177,296.214 292.323,296.215 297.468,296.217 302.614,296.218 307.759,296.219 \n",
       "  312.904,296.22 318.05,296.22 323.195,296.22 328.341,296.22 333.486,296.219 338.632,296.218 343.777,296.217 348.923,296.216 354.068,296.214 359.214,296.212 \n",
       "  364.359,296.21 369.505,296.208 374.65,296.205 379.796,296.203 384.941,296.201 390.087,296.198 395.232,296.196 400.378,296.193 405.523,296.191 410.669,296.189 \n",
       "  415.814,296.187 420.96,296.185 426.105,296.184 431.25,296.183 436.396,296.182 441.541,296.181 446.687,296.181 451.832,296.181 456.978,296.181 462.123,296.182 \n",
       "  467.269,296.182 472.414,296.184 477.56,296.185 482.705,296.187 487.851,296.189 492.996,296.191 498.142,296.193 503.287,296.195 508.433,296.198 513.578,296.2 \n",
       "  518.724,296.203 523.869,296.205 529.015,296.207 534.16,296.21 539.306,296.212 544.451,296.214 549.596,296.215 554.742,296.217 559.887,296.218 565.033,296.219 \n",
       "  \n",
       "  \"/>\n",
       "<polygon clip-path=\"url(#clip6700)\" points=\"\n",
       "489.608,108.291 562.315,108.291 562.315,32.691 489.608,32.691 \n",
       "  \" fill=\"#ffffff\" fill-opacity=\"1\"/>\n",
       "<polyline clip-path=\"url(#clip6700)\" style=\"stroke:#000000; stroke-width:1; stroke-opacity:1; fill:none\" points=\"\n",
       "  489.608,108.291 562.315,108.291 562.315,32.691 489.608,32.691 489.608,108.291 \n",
       "  \"/>\n",
       "<polyline clip-path=\"url(#clip6700)\" style=\"stroke:#009af9; stroke-width:1; stroke-opacity:1; fill:none\" points=\"\n",
       "  495.608,47.811 531.608,47.811 \n",
       "  \"/>\n",
       "<g clip-path=\"url(#clip6700)\">\n",
       "<text style=\"fill:#000000; fill-opacity:1; font-family:Arial,Helvetica Neue,Helvetica,sans-serif; font-size:12; text-anchor:start;\" transform=\"rotate(0, 537.608, 52.311)\" x=\"537.608\" y=\"52.311\">y1</text>\n",
       "</g>\n",
       "<polyline clip-path=\"url(#clip6700)\" style=\"stroke:#e26f46; stroke-width:1; stroke-opacity:1; fill:none\" points=\"\n",
       "  495.608,62.931 531.608,62.931 \n",
       "  \"/>\n",
       "<g clip-path=\"url(#clip6700)\">\n",
       "<text style=\"fill:#000000; fill-opacity:1; font-family:Arial,Helvetica Neue,Helvetica,sans-serif; font-size:12; text-anchor:start;\" transform=\"rotate(0, 537.608, 67.431)\" x=\"537.608\" y=\"67.431\">y2</text>\n",
       "</g>\n",
       "<polyline clip-path=\"url(#clip6700)\" style=\"stroke:#3da44d; stroke-width:1; stroke-opacity:1; fill:none\" points=\"\n",
       "  495.608,78.051 531.608,78.051 \n",
       "  \"/>\n",
       "<g clip-path=\"url(#clip6700)\">\n",
       "<text style=\"fill:#000000; fill-opacity:1; font-family:Arial,Helvetica Neue,Helvetica,sans-serif; font-size:12; text-anchor:start;\" transform=\"rotate(0, 537.608, 82.551)\" x=\"537.608\" y=\"82.551\">y3</text>\n",
       "</g>\n",
       "<polyline clip-path=\"url(#clip6700)\" style=\"stroke:#c271d2; stroke-width:1; stroke-opacity:1; fill:none\" points=\"\n",
       "  495.608,93.171 531.608,93.171 \n",
       "  \"/>\n",
       "<g clip-path=\"url(#clip6700)\">\n",
       "<text style=\"fill:#000000; fill-opacity:1; font-family:Arial,Helvetica Neue,Helvetica,sans-serif; font-size:12; text-anchor:start;\" transform=\"rotate(0, 537.608, 97.671)\" x=\"537.608\" y=\"97.671\">y4</text>\n",
       "</g>\n",
       "</svg>\n"
      ]
     },
     "execution_count": 27,
     "metadata": {},
     "output_type": "execute_result"
    }
   ],
   "source": [
    "# L is the linear operator from the Heat Equation from before\n",
    "tmp = similar(u₀)\n",
    "function f(dû,û,tmp,t)\n",
    "    A_mul_B!(tmp,Ti,û) # Transform u back to point-space\n",
    "    @. tmp = 0.75sqrt(tmp) - tmp # apply nonlinear function 0.75sqrt(u)-u in point-space\n",
    "    A_mul_B!(dû,T,tmp) # Transform back to Fourier space\n",
    "end\n",
    "\n",
    "using DiffEqOperators\n",
    "# Turn L into a linear operator DiffEq can recognize\n",
    "# By making it Diagonal, DiffEq internally specializes the linear solver\n",
    "A = DiffEqArrayOperator(Diagonal(L)) \n",
    "\n",
    "# Define u' = Au + f\n",
    "prob = SplitODEProblem(A, f, u₀, (0.0,10.0),tmp)\n",
    "\n",
    "# Note: use the linsolve argument to pass alternative linear solver methods!\n",
    "# The linear solver can be swapped out for other methods like preconditioned GMRES\n",
    "u = solve(prob, KenCarp4())\n",
    "plot(x,Ti*u(0.0))\n",
    "plot!(x,Ti*u(0.5))\n",
    "plot!(x,Ti*u(1.0))\n",
    "plot!(x,Ti*u(2.0))"
   ]
  },
  {
   "cell_type": "markdown",
   "metadata": {
    "slideshow": {
     "slide_type": "slide"
    }
   },
   "source": [
    "## Exponential Integrators \n",
    "\n",
    "A more recent set of integrators are the exponential integrators. These methods do not require solving a linear system, thus avoiding the most costly calculation of the implicit methods. However, they must perform a Krylov version of matrix exponential times vector multiplications, $w = exp(\\gamma*A)v$. Recent literature has been showing large performance gains of exponential integrators over traditional implicit methods. DifferentialEquations.jl is the first open source library in a high performance language to include exponential integrators, and a brand new (adaptive) Krylov-based approach for large sparse systems was just released as part of GSoC 2018. These methods will be continued to be improved but are ready for widespread use and benchmarking is to come."
   ]
  },
  {
   "cell_type": "code",
   "execution_count": 29,
   "metadata": {
    "slideshow": {
     "slide_type": "slide"
    }
   },
   "outputs": [
    {
     "data": {
      "image/svg+xml": [
       "<?xml version=\"1.0\" encoding=\"utf-8\"?>\n",
       "<svg xmlns=\"http://www.w3.org/2000/svg\" xmlns:xlink=\"http://www.w3.org/1999/xlink\" width=\"600\" height=\"400\" viewBox=\"0 0 600 400\">\n",
       "<defs>\n",
       "  <clipPath id=\"clip6900\">\n",
       "    <rect x=\"0\" y=\"0\" width=\"600\" height=\"400\"/>\n",
       "  </clipPath>\n",
       "</defs>\n",
       "<polygon clip-path=\"url(#clip6900)\" points=\"\n",
       "0,400 600,400 600,0 0,0 \n",
       "  \" fill=\"#ffffff\" fill-opacity=\"1\"/>\n",
       "<defs>\n",
       "  <clipPath id=\"clip6901\">\n",
       "    <rect x=\"120\" y=\"0\" width=\"421\" height=\"400\"/>\n",
       "  </clipPath>\n",
       "</defs>\n",
       "<polygon clip-path=\"url(#clip6900)\" points=\"\n",
       "40.3485,375.869 580.315,375.869 580.315,11.811 40.3485,11.811 \n",
       "  \" fill=\"#ffffff\" fill-opacity=\"1\"/>\n",
       "<defs>\n",
       "  <clipPath id=\"clip6902\">\n",
       "    <rect x=\"40\" y=\"11\" width=\"541\" height=\"365\"/>\n",
       "  </clipPath>\n",
       "</defs>\n",
       "<polyline clip-path=\"url(#clip6902)\" style=\"stroke:#000000; stroke-width:0.5; stroke-opacity:0.1; fill:none\" points=\"\n",
       "  55.6306,375.869 55.6306,11.811 \n",
       "  \"/>\n",
       "<polyline clip-path=\"url(#clip6902)\" style=\"stroke:#000000; stroke-width:0.5; stroke-opacity:0.1; fill:none\" points=\"\n",
       "  137.523,375.869 137.523,11.811 \n",
       "  \"/>\n",
       "<polyline clip-path=\"url(#clip6902)\" style=\"stroke:#000000; stroke-width:0.5; stroke-opacity:0.1; fill:none\" points=\"\n",
       "  219.416,375.869 219.416,11.811 \n",
       "  \"/>\n",
       "<polyline clip-path=\"url(#clip6902)\" style=\"stroke:#000000; stroke-width:0.5; stroke-opacity:0.1; fill:none\" points=\"\n",
       "  301.309,375.869 301.309,11.811 \n",
       "  \"/>\n",
       "<polyline clip-path=\"url(#clip6902)\" style=\"stroke:#000000; stroke-width:0.5; stroke-opacity:0.1; fill:none\" points=\"\n",
       "  383.202,375.869 383.202,11.811 \n",
       "  \"/>\n",
       "<polyline clip-path=\"url(#clip6902)\" style=\"stroke:#000000; stroke-width:0.5; stroke-opacity:0.1; fill:none\" points=\"\n",
       "  465.095,375.869 465.095,11.811 \n",
       "  \"/>\n",
       "<polyline clip-path=\"url(#clip6902)\" style=\"stroke:#000000; stroke-width:0.5; stroke-opacity:0.1; fill:none\" points=\"\n",
       "  546.988,375.869 546.988,11.811 \n",
       "  \"/>\n",
       "<polyline clip-path=\"url(#clip6902)\" style=\"stroke:#000000; stroke-width:0.5; stroke-opacity:0.1; fill:none\" points=\"\n",
       "  40.3485,321.112 580.315,321.112 \n",
       "  \"/>\n",
       "<polyline clip-path=\"url(#clip6902)\" style=\"stroke:#000000; stroke-width:0.5; stroke-opacity:0.1; fill:none\" points=\"\n",
       "  40.3485,246.301 580.315,246.301 \n",
       "  \"/>\n",
       "<polyline clip-path=\"url(#clip6902)\" style=\"stroke:#000000; stroke-width:0.5; stroke-opacity:0.1; fill:none\" points=\"\n",
       "  40.3485,171.49 580.315,171.49 \n",
       "  \"/>\n",
       "<polyline clip-path=\"url(#clip6902)\" style=\"stroke:#000000; stroke-width:0.5; stroke-opacity:0.1; fill:none\" points=\"\n",
       "  40.3485,96.6792 580.315,96.6792 \n",
       "  \"/>\n",
       "<polyline clip-path=\"url(#clip6902)\" style=\"stroke:#000000; stroke-width:0.5; stroke-opacity:0.1; fill:none\" points=\"\n",
       "  40.3485,21.8682 580.315,21.8682 \n",
       "  \"/>\n",
       "<polyline clip-path=\"url(#clip6900)\" style=\"stroke:#000000; stroke-width:1; stroke-opacity:1; fill:none\" points=\"\n",
       "  40.3485,375.869 580.315,375.869 \n",
       "  \"/>\n",
       "<polyline clip-path=\"url(#clip6900)\" style=\"stroke:#000000; stroke-width:1; stroke-opacity:1; fill:none\" points=\"\n",
       "  40.3485,375.869 40.3485,11.811 \n",
       "  \"/>\n",
       "<polyline clip-path=\"url(#clip6900)\" style=\"stroke:#000000; stroke-width:1; stroke-opacity:1; fill:none\" points=\"\n",
       "  55.6306,375.869 55.6306,370.408 \n",
       "  \"/>\n",
       "<polyline clip-path=\"url(#clip6900)\" style=\"stroke:#000000; stroke-width:1; stroke-opacity:1; fill:none\" points=\"\n",
       "  137.523,375.869 137.523,370.408 \n",
       "  \"/>\n",
       "<polyline clip-path=\"url(#clip6900)\" style=\"stroke:#000000; stroke-width:1; stroke-opacity:1; fill:none\" points=\"\n",
       "  219.416,375.869 219.416,370.408 \n",
       "  \"/>\n",
       "<polyline clip-path=\"url(#clip6900)\" style=\"stroke:#000000; stroke-width:1; stroke-opacity:1; fill:none\" points=\"\n",
       "  301.309,375.869 301.309,370.408 \n",
       "  \"/>\n",
       "<polyline clip-path=\"url(#clip6900)\" style=\"stroke:#000000; stroke-width:1; stroke-opacity:1; fill:none\" points=\"\n",
       "  383.202,375.869 383.202,370.408 \n",
       "  \"/>\n",
       "<polyline clip-path=\"url(#clip6900)\" style=\"stroke:#000000; stroke-width:1; stroke-opacity:1; fill:none\" points=\"\n",
       "  465.095,375.869 465.095,370.408 \n",
       "  \"/>\n",
       "<polyline clip-path=\"url(#clip6900)\" style=\"stroke:#000000; stroke-width:1; stroke-opacity:1; fill:none\" points=\"\n",
       "  546.988,375.869 546.988,370.408 \n",
       "  \"/>\n",
       "<polyline clip-path=\"url(#clip6900)\" style=\"stroke:#000000; stroke-width:1; stroke-opacity:1; fill:none\" points=\"\n",
       "  40.3485,321.112 48.448,321.112 \n",
       "  \"/>\n",
       "<polyline clip-path=\"url(#clip6900)\" style=\"stroke:#000000; stroke-width:1; stroke-opacity:1; fill:none\" points=\"\n",
       "  40.3485,246.301 48.448,246.301 \n",
       "  \"/>\n",
       "<polyline clip-path=\"url(#clip6900)\" style=\"stroke:#000000; stroke-width:1; stroke-opacity:1; fill:none\" points=\"\n",
       "  40.3485,171.49 48.448,171.49 \n",
       "  \"/>\n",
       "<polyline clip-path=\"url(#clip6900)\" style=\"stroke:#000000; stroke-width:1; stroke-opacity:1; fill:none\" points=\"\n",
       "  40.3485,96.6792 48.448,96.6792 \n",
       "  \"/>\n",
       "<polyline clip-path=\"url(#clip6900)\" style=\"stroke:#000000; stroke-width:1; stroke-opacity:1; fill:none\" points=\"\n",
       "  40.3485,21.8682 48.448,21.8682 \n",
       "  \"/>\n",
       "<g clip-path=\"url(#clip6900)\">\n",
       "<text style=\"fill:#000000; fill-opacity:1; font-family:Arial,Helvetica Neue,Helvetica,sans-serif; font-size:12; text-anchor:middle;\" transform=\"rotate(0, 55.6306, 389.669)\" x=\"55.6306\" y=\"389.669\">0</text>\n",
       "</g>\n",
       "<g clip-path=\"url(#clip6900)\">\n",
       "<text style=\"fill:#000000; fill-opacity:1; font-family:Arial,Helvetica Neue,Helvetica,sans-serif; font-size:12; text-anchor:middle;\" transform=\"rotate(0, 137.523, 389.669)\" x=\"137.523\" y=\"389.669\">1</text>\n",
       "</g>\n",
       "<g clip-path=\"url(#clip6900)\">\n",
       "<text style=\"fill:#000000; fill-opacity:1; font-family:Arial,Helvetica Neue,Helvetica,sans-serif; font-size:12; text-anchor:middle;\" transform=\"rotate(0, 219.416, 389.669)\" x=\"219.416\" y=\"389.669\">2</text>\n",
       "</g>\n",
       "<g clip-path=\"url(#clip6900)\">\n",
       "<text style=\"fill:#000000; fill-opacity:1; font-family:Arial,Helvetica Neue,Helvetica,sans-serif; font-size:12; text-anchor:middle;\" transform=\"rotate(0, 301.309, 389.669)\" x=\"301.309\" y=\"389.669\">3</text>\n",
       "</g>\n",
       "<g clip-path=\"url(#clip6900)\">\n",
       "<text style=\"fill:#000000; fill-opacity:1; font-family:Arial,Helvetica Neue,Helvetica,sans-serif; font-size:12; text-anchor:middle;\" transform=\"rotate(0, 383.202, 389.669)\" x=\"383.202\" y=\"389.669\">4</text>\n",
       "</g>\n",
       "<g clip-path=\"url(#clip6900)\">\n",
       "<text style=\"fill:#000000; fill-opacity:1; font-family:Arial,Helvetica Neue,Helvetica,sans-serif; font-size:12; text-anchor:middle;\" transform=\"rotate(0, 465.095, 389.669)\" x=\"465.095\" y=\"389.669\">5</text>\n",
       "</g>\n",
       "<g clip-path=\"url(#clip6900)\">\n",
       "<text style=\"fill:#000000; fill-opacity:1; font-family:Arial,Helvetica Neue,Helvetica,sans-serif; font-size:12; text-anchor:middle;\" transform=\"rotate(0, 546.988, 389.669)\" x=\"546.988\" y=\"389.669\">6</text>\n",
       "</g>\n",
       "<g clip-path=\"url(#clip6900)\">\n",
       "<text style=\"fill:#000000; fill-opacity:1; font-family:Arial,Helvetica Neue,Helvetica,sans-serif; font-size:12; text-anchor:end;\" transform=\"rotate(0, 34.3485, 325.612)\" x=\"34.3485\" y=\"325.612\">0.6</text>\n",
       "</g>\n",
       "<g clip-path=\"url(#clip6900)\">\n",
       "<text style=\"fill:#000000; fill-opacity:1; font-family:Arial,Helvetica Neue,Helvetica,sans-serif; font-size:12; text-anchor:end;\" transform=\"rotate(0, 34.3485, 250.801)\" x=\"34.3485\" y=\"250.801\">0.7</text>\n",
       "</g>\n",
       "<g clip-path=\"url(#clip6900)\">\n",
       "<text style=\"fill:#000000; fill-opacity:1; font-family:Arial,Helvetica Neue,Helvetica,sans-serif; font-size:12; text-anchor:end;\" transform=\"rotate(0, 34.3485, 175.99)\" x=\"34.3485\" y=\"175.99\">0.8</text>\n",
       "</g>\n",
       "<g clip-path=\"url(#clip6900)\">\n",
       "<text style=\"fill:#000000; fill-opacity:1; font-family:Arial,Helvetica Neue,Helvetica,sans-serif; font-size:12; text-anchor:end;\" transform=\"rotate(0, 34.3485, 101.179)\" x=\"34.3485\" y=\"101.179\">0.9</text>\n",
       "</g>\n",
       "<g clip-path=\"url(#clip6900)\">\n",
       "<text style=\"fill:#000000; fill-opacity:1; font-family:Arial,Helvetica Neue,Helvetica,sans-serif; font-size:12; text-anchor:end;\" transform=\"rotate(0, 34.3485, 26.3682)\" x=\"34.3485\" y=\"26.3682\">1.0</text>\n",
       "</g>\n",
       "<polyline clip-path=\"url(#clip6902)\" style=\"stroke:#009af9; stroke-width:1; stroke-opacity:1; fill:none\" points=\"\n",
       "  55.6306,362.633 60.7761,365.338 65.9215,365.565 71.067,363.312 76.2125,358.605 81.358,351.498 86.5034,342.076 91.6489,330.453 96.7944,316.772 101.94,301.206 \n",
       "  107.085,283.959 112.231,265.262 117.376,245.377 122.522,224.589 127.667,203.207 132.813,181.562 137.958,159.998 143.104,138.868 148.249,118.53 153.395,99.3364 \n",
       "  158.54,81.6304 163.686,65.7341 168.831,51.9428 173.977,40.5175 179.122,31.6772 184.268,25.5932 189.413,22.3847 194.558,22.1145 199.704,24.7881 204.849,30.3528 \n",
       "  209.995,38.6998 215.14,49.6669 220.286,63.0433 225.431,78.5753 230.577,95.9735 235.722,114.919 240.868,135.074 246.013,156.086 251.159,177.597 256.304,199.254 \n",
       "  261.45,220.709 266.595,241.629 271.741,261.702 276.886,280.637 282.032,298.168 287.177,314.057 292.323,328.098 297.468,340.109 302.614,349.943 307.759,357.481 \n",
       "  312.904,362.633 318.05,365.338 323.195,365.565 328.341,363.312 333.486,358.605 338.632,351.498 343.777,342.076 348.923,330.453 354.068,316.772 359.214,301.206 \n",
       "  364.359,283.959 369.505,265.262 374.65,245.377 379.796,224.589 384.941,203.207 390.087,181.562 395.232,159.998 400.378,138.868 405.523,118.53 410.669,99.3364 \n",
       "  415.814,81.6304 420.96,65.7341 426.105,51.9428 431.25,40.5175 436.396,31.6772 441.541,25.5932 446.687,22.3847 451.832,22.1145 456.978,24.7881 462.123,30.3528 \n",
       "  467.269,38.6998 472.414,49.6669 477.56,63.0433 482.705,78.5753 487.851,95.9735 492.996,114.919 498.142,135.074 503.287,156.086 508.433,177.597 513.578,199.254 \n",
       "  518.724,220.709 523.869,241.629 529.015,261.702 534.16,280.637 539.306,298.168 544.451,314.057 549.596,328.098 554.742,340.109 559.887,349.943 565.033,357.481 \n",
       "  \n",
       "  \"/>\n",
       "<polyline clip-path=\"url(#clip6902)\" style=\"stroke:#e26f46; stroke-width:1; stroke-opacity:1; fill:none\" points=\"\n",
       "  55.6306,250.532 60.7761,250.833 65.9215,250.859 71.067,250.608 76.2125,250.083 81.358,249.295 86.5034,248.255 91.6489,246.978 96.7944,245.487 101.94,243.804 \n",
       "  107.085,241.955 112.231,239.971 117.376,237.881 122.522,235.72 127.667,233.522 132.813,231.32 137.958,229.15 143.104,227.046 148.249,225.041 153.395,223.167 \n",
       "  158.54,221.453 163.686,219.926 168.831,218.61 173.977,217.527 179.122,216.692 184.268,216.12 189.413,215.818 194.558,215.793 199.704,216.044 204.849,216.567 \n",
       "  209.995,217.355 215.14,218.394 220.286,219.668 225.431,221.158 230.577,222.84 235.722,224.687 240.868,226.67 246.013,228.759 251.159,230.919 256.304,233.118 \n",
       "  261.45,235.32 266.595,237.49 271.741,239.595 276.886,241.601 282.032,243.477 287.177,245.192 292.323,246.721 297.468,248.038 302.614,249.123 307.759,249.959 \n",
       "  312.904,250.532 318.05,250.833 323.195,250.859 328.341,250.608 333.486,250.083 338.632,249.295 343.777,248.255 348.923,246.978 354.068,245.487 359.214,243.804 \n",
       "  364.359,241.955 369.505,239.971 374.65,237.881 379.796,235.72 384.941,233.522 390.087,231.32 395.232,229.15 400.378,227.046 405.523,225.041 410.669,223.167 \n",
       "  415.814,221.453 420.96,219.926 426.105,218.61 431.25,217.527 436.396,216.692 441.541,216.12 446.687,215.818 451.832,215.793 456.978,216.044 462.123,216.567 \n",
       "  467.269,217.355 472.414,218.394 477.56,219.668 482.705,221.158 487.851,222.84 492.996,224.687 498.142,226.67 503.287,228.759 508.433,230.919 513.578,233.118 \n",
       "  518.724,235.32 523.869,237.49 529.015,239.595 534.16,241.601 539.306,243.477 544.451,245.192 549.596,246.721 554.742,248.038 559.887,249.123 565.033,249.959 \n",
       "  \n",
       "  \"/>\n",
       "<polyline clip-path=\"url(#clip6902)\" style=\"stroke:#3da44d; stroke-width:1; stroke-opacity:1; fill:none\" points=\"\n",
       "  55.6306,261.929 60.7761,261.96 65.9215,261.963 71.067,261.937 76.2125,261.883 81.358,261.802 86.5034,261.696 91.6489,261.565 96.7944,261.411 101.94,261.239 \n",
       "  107.085,261.049 112.231,260.845 117.376,260.63 122.522,260.408 127.667,260.182 132.813,259.956 137.958,259.733 143.104,259.517 148.249,259.311 153.395,259.118 \n",
       "  158.54,258.942 163.686,258.785 168.831,258.65 173.977,258.539 179.122,258.453 184.268,258.394 189.413,258.363 194.558,258.361 199.704,258.386 204.849,258.44 \n",
       "  209.995,258.521 215.14,258.628 220.286,258.759 225.431,258.912 230.577,259.085 235.722,259.275 240.868,259.479 246.013,259.693 251.159,259.915 256.304,260.141 \n",
       "  261.45,260.367 266.595,260.59 271.741,260.806 276.886,261.012 282.032,261.205 287.177,261.381 292.323,261.538 297.468,261.673 302.614,261.785 307.759,261.871 \n",
       "  312.904,261.929 318.05,261.96 323.195,261.963 328.341,261.937 333.486,261.883 338.632,261.802 343.777,261.696 348.923,261.565 354.068,261.411 359.214,261.239 \n",
       "  364.359,261.049 369.505,260.845 374.65,260.63 379.796,260.408 384.941,260.182 390.087,259.956 395.232,259.733 400.378,259.517 405.523,259.311 410.669,259.118 \n",
       "  415.814,258.942 420.96,258.785 426.105,258.65 431.25,258.539 436.396,258.453 441.541,258.394 446.687,258.363 451.832,258.361 456.978,258.386 462.123,258.44 \n",
       "  467.269,258.521 472.414,258.628 477.56,258.759 482.705,258.912 487.851,259.085 492.996,259.275 498.142,259.479 503.287,259.693 508.433,259.915 513.578,260.141 \n",
       "  518.724,260.367 523.869,260.59 529.015,260.806 534.16,261.012 539.306,261.205 544.451,261.381 549.596,261.538 554.742,261.673 559.887,261.785 565.033,261.871 \n",
       "  \n",
       "  \"/>\n",
       "<polyline clip-path=\"url(#clip6902)\" style=\"stroke:#c271d2; stroke-width:1; stroke-opacity:1; fill:none\" points=\"\n",
       "  55.6306,296.219 60.7761,296.22 65.9215,296.22 71.067,296.219 76.2125,296.219 81.358,296.218 86.5034,296.217 91.6489,296.215 96.7944,296.214 101.94,296.212 \n",
       "  107.085,296.21 112.231,296.208 117.376,296.205 122.522,296.203 127.667,296.201 132.813,296.198 137.958,296.196 143.104,296.193 148.249,296.191 153.395,296.189 \n",
       "  158.54,296.187 163.686,296.186 168.831,296.184 173.977,296.183 179.122,296.182 184.268,296.181 189.413,296.181 194.558,296.181 199.704,296.181 204.849,296.182 \n",
       "  209.995,296.183 215.14,296.184 220.286,296.185 225.431,296.187 230.577,296.189 235.722,296.191 240.868,296.193 246.013,296.195 251.159,296.198 256.304,296.2 \n",
       "  261.45,296.203 266.595,296.205 271.741,296.207 276.886,296.209 282.032,296.212 287.177,296.213 292.323,296.215 297.468,296.217 302.614,296.218 307.759,296.219 \n",
       "  312.904,296.219 318.05,296.22 323.195,296.22 328.341,296.219 333.486,296.219 338.632,296.218 343.777,296.217 348.923,296.215 354.068,296.214 359.214,296.212 \n",
       "  364.359,296.21 369.505,296.208 374.65,296.205 379.796,296.203 384.941,296.201 390.087,296.198 395.232,296.196 400.378,296.193 405.523,296.191 410.669,296.189 \n",
       "  415.814,296.187 420.96,296.186 426.105,296.184 431.25,296.183 436.396,296.182 441.541,296.181 446.687,296.181 451.832,296.181 456.978,296.181 462.123,296.182 \n",
       "  467.269,296.183 472.414,296.184 477.56,296.185 482.705,296.187 487.851,296.189 492.996,296.191 498.142,296.193 503.287,296.195 508.433,296.198 513.578,296.2 \n",
       "  518.724,296.203 523.869,296.205 529.015,296.207 534.16,296.209 539.306,296.212 544.451,296.213 549.596,296.215 554.742,296.217 559.887,296.218 565.033,296.219 \n",
       "  \n",
       "  \"/>\n",
       "<polygon clip-path=\"url(#clip6900)\" points=\"\n",
       "489.608,108.291 562.315,108.291 562.315,32.691 489.608,32.691 \n",
       "  \" fill=\"#ffffff\" fill-opacity=\"1\"/>\n",
       "<polyline clip-path=\"url(#clip6900)\" style=\"stroke:#000000; stroke-width:1; stroke-opacity:1; fill:none\" points=\"\n",
       "  489.608,108.291 562.315,108.291 562.315,32.691 489.608,32.691 489.608,108.291 \n",
       "  \"/>\n",
       "<polyline clip-path=\"url(#clip6900)\" style=\"stroke:#009af9; stroke-width:1; stroke-opacity:1; fill:none\" points=\"\n",
       "  495.608,47.811 531.608,47.811 \n",
       "  \"/>\n",
       "<g clip-path=\"url(#clip6900)\">\n",
       "<text style=\"fill:#000000; fill-opacity:1; font-family:Arial,Helvetica Neue,Helvetica,sans-serif; font-size:12; text-anchor:start;\" transform=\"rotate(0, 537.608, 52.311)\" x=\"537.608\" y=\"52.311\">y1</text>\n",
       "</g>\n",
       "<polyline clip-path=\"url(#clip6900)\" style=\"stroke:#e26f46; stroke-width:1; stroke-opacity:1; fill:none\" points=\"\n",
       "  495.608,62.931 531.608,62.931 \n",
       "  \"/>\n",
       "<g clip-path=\"url(#clip6900)\">\n",
       "<text style=\"fill:#000000; fill-opacity:1; font-family:Arial,Helvetica Neue,Helvetica,sans-serif; font-size:12; text-anchor:start;\" transform=\"rotate(0, 537.608, 67.431)\" x=\"537.608\" y=\"67.431\">y2</text>\n",
       "</g>\n",
       "<polyline clip-path=\"url(#clip6900)\" style=\"stroke:#3da44d; stroke-width:1; stroke-opacity:1; fill:none\" points=\"\n",
       "  495.608,78.051 531.608,78.051 \n",
       "  \"/>\n",
       "<g clip-path=\"url(#clip6900)\">\n",
       "<text style=\"fill:#000000; fill-opacity:1; font-family:Arial,Helvetica Neue,Helvetica,sans-serif; font-size:12; text-anchor:start;\" transform=\"rotate(0, 537.608, 82.551)\" x=\"537.608\" y=\"82.551\">y3</text>\n",
       "</g>\n",
       "<polyline clip-path=\"url(#clip6900)\" style=\"stroke:#c271d2; stroke-width:1; stroke-opacity:1; fill:none\" points=\"\n",
       "  495.608,93.171 531.608,93.171 \n",
       "  \"/>\n",
       "<g clip-path=\"url(#clip6900)\">\n",
       "<text style=\"fill:#000000; fill-opacity:1; font-family:Arial,Helvetica Neue,Helvetica,sans-serif; font-size:12; text-anchor:start;\" transform=\"rotate(0, 537.608, 97.671)\" x=\"537.608\" y=\"97.671\">y4</text>\n",
       "</g>\n",
       "</svg>\n"
      ]
     },
     "execution_count": 29,
     "metadata": {},
     "output_type": "execute_result"
    }
   ],
   "source": [
    "u = solve(prob, ETDRK4(), dt=0.1)\n",
    "plot(x,Ti*u(0.0))\n",
    "plot!(x,Ti*u(0.5))\n",
    "plot!(x,Ti*u(1.0))\n",
    "plot!(x,Ti*u(2.0))"
   ]
  },
  {
   "cell_type": "markdown",
   "metadata": {
    "slideshow": {
     "slide_type": "slide"
    }
   },
   "source": [
    "## Note\n",
    "\n",
    "Additional methods in DifferentialEquations.jl should be explored. The Runge-Kutta Chebyshev methods are stabilized explicit methods which can solve stiff equations without linear solving. Options allow for swapping out the internal Newton method to Picard and Anderson iteration to not require linear solving. Passing a `linsolve` allows you to take control over the linear solver technique: make it an AMG-preconditioned GMRES. Please see the documentation for a full feature list.\n",
    "\n",
    "## SSP Methods\n",
    "\n",
    "Strong-Stability Presurving Runge-Kutta methods are \"more stable\" explicit methods for PDEs. Some PDEs, like hyperbolic PDEs, are not amenable to implicit solvers and thus require explicit solvers. SSPRK methods can increase the allowable stepsize to increase the efficiency!"
   ]
  },
  {
   "cell_type": "markdown",
   "metadata": {
    "slideshow": {
     "slide_type": "slide"
    }
   },
   "source": [
    "## Part 3.3 Recap\n",
    "\n",
    "PDEs can also be solved by leaving an axis undiscretized and using an ODE solver. This can increase efficiency, stability, and reduce memory consumption. Classes of methods to utilize are:\n",
    "\n",
    "- Implicit and Rosenbrock(-W) Methods\n",
    "- IMEX Methods\n",
    "- Exponential Integrators\n",
    "- Runge-Kutta Chebyshev Methods\n",
    "- SSPRK Methods"
   ]
  },
  {
   "cell_type": "markdown",
   "metadata": {
    "slideshow": {
     "slide_type": "slide"
    }
   },
   "source": [
    "## Why Julia?\n",
    "\n",
    "- IterativeSolvers.jl is:\n",
    "    * Compatible with matrix-free types via `*` overloads\n",
    "    * Able to be used in the nonlinear and ODE solvers\n",
    "- BandedMatrices.jl and BlockBandedMatrices.jl are:\n",
    "    * One of a kind packages for specialization of linear solvers on common PDE matrix types\n",
    "- KINSOL from Sundials.jl, and soon NLsolve.jl, are:\n",
    "    * A globalized Newton method with the ability to chose preconditioned-Krylov linear solvers\n",
    "    * Able to utilize Anderson acceleration to avoid linear solving\n",
    "- DifferentialEquations.jl is:\n",
    "    * One of 3 open-source ODE suites with IMEX integrators (Sundials ARKODE and PETSc). \n",
    "    * One of 3 open-source ODE suites (EXPINT and ExpoKit in MATLAB) with exponential integrators, and the only one with the newest class of EPIRK methods. \n",
    "    * One of two suites with Runge-Kutta Chebyshev methods (Hairer's Suite). It is the only one with high order adaptive SSPRK methods.\n",
    "- Julia is a language which allows for zero-cost abstractions, letting one compile code specific to the application and compose packages without extra overhead\n",
    "\n",
    "The native Julia methods of DifferentialEquations.jl also let you swap in all of the Julia tools for linear solvers and allows type-genericity (which allows the use of GPUs for example), allowing you to utilize the full arsenal of tools with these unique implementations."
   ]
  },
  {
   "cell_type": "markdown",
   "metadata": {
    "slideshow": {
     "slide_type": "slide"
    }
   },
   "source": [
    "## Conclusion: Solving PDEs Takes Layers of Tools\n",
    "\n",
    "You need discretization tooling, linear solvers, nonlinear solvers, and finally ODE solvers to build an efficient PDE solver.\n",
    "\n",
    "We showed how you can use simple loops to write simple PDE solvers, but the efficient methods require using packages in order to get the latest and most efficient methods.\n",
    "\n",
    "Many of the latest and most efficient methods only have implementations in Julia, and the JuliaDiffEq organization is committed to continuing the development of such toolling."
   ]
  },
  {
   "cell_type": "markdown",
   "metadata": {
    "slideshow": {
     "slide_type": "slide"
    }
   },
   "source": [
    "## Near Future\n",
    "\n",
    "In the near future we with to provide a set of problem types and algorithms for common PDEs. Example: Reaction-Diffusion Equation\n",
    "\n",
    "$$ u_t = u_{xx} + f(u,t) $$"
   ]
  },
  {
   "cell_type": "code",
   "execution_count": null,
   "metadata": {
    "slideshow": {
     "slide_type": "fragment"
    }
   },
   "outputs": [],
   "source": [
    "# Define the PDE problem to solve\n",
    "prob = ReactionDiffusionProblem(domain,discretization,f)\n",
    "# Solve it with a pseudospectral IMEX method\n",
    "solve(prob,Pseudospectral(KenCarp4())\n",
    "# Or an EPIRK method\n",
    "solve(prob,FiniteDifference(EXPRB53s3()))"
   ]
  },
  {
   "cell_type": "markdown",
   "metadata": {
    "slideshow": {
     "slide_type": "fragment"
    }
   },
   "source": [
    "#### We are now very close."
   ]
  },
  {
   "cell_type": "markdown",
   "metadata": {
    "slideshow": {
     "slide_type": "slide"
    }
   },
   "source": [
    "# Acknowledgments\n",
    "\n",
    "I am deeply indebted to every JuliaDiffEq contributor. I would like to especially those who have specifically been involved in developing the large range of tools which have been demonstrated in this talk:\n",
    "\n",
    "Gabriel Gellner\n",
    "Ethan Levien\n",
    "Scott P. Jones\n",
    "Lyndon White\n",
    "@finmod\n",
    "@dextorious\n",
    "Viral Shah\n",
    "Vijay Ivaturi\n",
    "Andreas Rossler\n",
    "Ernst Hairer\n",
    "Lawrance F. Shampine"
   ]
  }
 ],
 "metadata": {
  "celltoolbar": "Slideshow",
  "kernelspec": {
   "display_name": "Julia 0.6.3",
   "language": "julia",
   "name": "julia-0.6"
  },
  "language_info": {
   "file_extension": ".jl",
   "mimetype": "application/julia",
   "name": "julia",
   "version": "0.6.3"
  }
 },
 "nbformat": 4,
 "nbformat_minor": 2
}
